{
 "cells": [
  {
   "cell_type": "markdown",
   "metadata": {},
   "source": [
    "# Chapter 5 Exercises"
   ]
  },
  {
   "cell_type": "markdown",
   "metadata": {},
   "source": [
    "1. What is the fundamental idea behind support vector machines? \n",
    " - SVMs aim to create the widest possible street or margin between two groups. They use the data points from each group which are closest to the other group (support vectors) to define this margin.\n",
    " - Goal is to have the widest possible margin between the decision boundary and the training instances. \n",
    " - Also important to use kernels for training on nonlinear datasets. \n",
    "2. What is a support vector? \n",
    " - support vectors are the data points at the boundary between two groups of data. They are used to define the border between the two groups and calculate predictions. \n",
    " - Instances which are not on the margin do not affect the training or predictions. \n",
    "3. Why is it important to scale the inputs when using SVMs?\n",
    " - SVMs ultimately rely upon measuring the distance between points in order to create the widest possible margin between groups. Having features of vastly different scales distorts the distances between points and overweights the feature with the larger scale. \n",
    "4. Can an SVM output a confidence score when it classifies an instance? What about a probability? \n",
    " - The output of the decision function or the distance between an instance and the decision boundary can be used as a confidence score. SVMs do not output a probability for each class. \n",
    " - Using logisitic regression and cross validation, sklearn can calculate a probability for each instance when using an SVM. \n",
    "5. Should you use the primal or the dual form of the SVM problem to train a model on a training set with millions of instances and hundreds of features? \n",
    " - You should use the primal form. The dual form is faster when the number of features is greater than the number of instances. \n",
    " - nonlinear (kernelized) SVMs can only use the dual form. \n",
    " - computational complexity for the primal form is directly proportional to the number of instances m, while for the dual form it is an exponential relationship, $m^2$ or $m^3$\n",
    "6. Say you've trained an SMV classifier with an RBF kernel, but it seems to underfit the training set. Should you increase or decrease gamma? What about C?\n",
    " - Increase gamma to decrease each instances range of influence on the decision boundary. This will introduce more variation in the decision boundary and reduce underfitting. Alternatively you could also increase C. \n",
    "7. How should you set the QP parameters to solve the soft margin linear SVM classifier problem using an off the shelf QP solver? \n",
    " - H an identity matrix of size 2m by 2m + 1 where m equals the number of instances. Top left value is zero to ignore the bias term. \n",
    " - f a vector of zeros with length = # features + 1 for bias term and concatenated with a vector with each element = C of length = #instances\n",
    " - A a matrix of size #constraints x #features+1 plus an mxm identity matrix to the right, an inverse identity matrix below that, and zeros in the remainder of the array. \n",
    " - b is a vector of -1s of length equal to the number of training instances concatenated with a vector of 0s equal in length to #instances"
   ]
  },
  {
   "cell_type": "markdown",
   "metadata": {},
   "source": [
    "# 8. Train a linear SVC on a linearly separable dataset. \n",
    " - Then train an SVC and a SGDClassifier on the same dataset. \n",
    " - See if you can get them to produce roughly the same model. "
   ]
  },
  {
   "cell_type": "code",
   "execution_count": 148,
   "metadata": {},
   "outputs": [],
   "source": [
    "from sklearn import datasets\n",
    "from sklearn.svm import LinearSVC, SVC\n",
    "from sklearn.linear_model import SGDClassifier\n",
    "from sklearn.preprocessing import MinMaxScaler\n",
    "from sklearn.model_selection import train_test_split\n",
    "import numpy as np\n",
    "import matplotlib.pyplot as plt\n",
    "%matplotlib inline"
   ]
  },
  {
   "cell_type": "code",
   "execution_count": 60,
   "metadata": {},
   "outputs": [],
   "source": [
    "#load iris dataset\n",
    "iris = datasets.load_iris()\n",
    "X = iris[\"data\"][:, (2, 3)]  # petal length, petal width\n",
    "y = iris[\"target\"]\n",
    "\n",
    "#create a binary classification dataset \n",
    "setosa_or_versicolor = (y == 0) | (y == 1)\n",
    "X = X[setosa_or_versicolor]\n",
    "y = y[setosa_or_versicolor]\n",
    "\n",
    "#scale the data\n",
    "scaler = MinMaxScaler()\n",
    "X_scaled = scaler.fit_transform(X)\n",
    "\n",
    "#split the dataset\n",
    "X_train, X_test, y_train, y_test = train_test_split(X_scaled, y, test_size=0.25, random_state=42)"
   ]
  },
  {
   "cell_type": "code",
   "execution_count": 61,
   "metadata": {},
   "outputs": [
    {
     "data": {
      "text/plain": [
       "LinearSVC()"
      ]
     },
     "execution_count": 61,
     "metadata": {},
     "output_type": "execute_result"
    }
   ],
   "source": [
    "#train a linear svc\n",
    "lin_svc = LinearSVC()\n",
    "lin_svc.fit(X_train,y_train)"
   ]
  },
  {
   "cell_type": "code",
   "execution_count": 62,
   "metadata": {},
   "outputs": [
    {
     "data": {
      "text/plain": [
       "SVC(kernel='linear')"
      ]
     },
     "execution_count": 62,
     "metadata": {},
     "output_type": "execute_result"
    }
   ],
   "source": [
    "#train an SVC\n",
    "svc = SVC(kernel='linear')\n",
    "svc.fit(X_train, y_train)"
   ]
  },
  {
   "cell_type": "code",
   "execution_count": 63,
   "metadata": {},
   "outputs": [
    {
     "data": {
      "text/plain": [
       "SGDClassifier()"
      ]
     },
     "execution_count": 63,
     "metadata": {},
     "output_type": "execute_result"
    }
   ],
   "source": [
    "#train an SGD classifier\n",
    "sgd_clf = SGDClassifier()\n",
    "sgd_clf.fit(X_train, y_train)"
   ]
  },
  {
   "cell_type": "code",
   "execution_count": 16,
   "metadata": {},
   "outputs": [],
   "source": [
    "from sklearn.metrics import confusion_matrix, precision_score, recall_score\n",
    "from sklearn.model_selection import cross_val_predict"
   ]
  },
  {
   "cell_type": "code",
   "execution_count": 64,
   "metadata": {},
   "outputs": [
    {
     "name": "stdout",
     "output_type": "stream",
     "text": [
      "linear SVC model\n",
      "confusion matrix: \n",
      "[[36  0]\n",
      " [ 0 39]]\n",
      "Precision score: 1.0\n",
      "Recall score: 1.0\n",
      "\n",
      "SVC model\n",
      "confusion matrix: \n",
      "[[36  0]\n",
      " [ 0 39]]\n",
      "Precision score: 1.0\n",
      "Recall score: 1.0\n",
      "\n",
      "SGD Classifier model\n",
      "confusion matrix: \n",
      "[[36  0]\n",
      " [ 0 39]]\n",
      "Precision score: 1.0\n",
      "Recall score: 1.0\n"
     ]
    }
   ],
   "source": [
    "#evauluate the models\n",
    "y_train_pred = cross_val_predict(lin_svc, X_train, y_train, cv=3)\n",
    "print('linear SVC model')\n",
    "print('confusion matrix: ')\n",
    "print(confusion_matrix(y_train, y_train_pred))\n",
    "print('Precision score: ' + str(precision_score(y_train, y_train_pred)))\n",
    "print('Recall score: ' + str(recall_score(y_train, y_train_pred)))\n",
    "print()\n",
    "y_train_pred = cross_val_predict(svc, X_train, y_train, cv=3)\n",
    "print('SVC model')\n",
    "print('confusion matrix: ')\n",
    "print(confusion_matrix(y_train, y_train_pred))\n",
    "print('Precision score: ' + str(precision_score(y_train, y_train_pred)))\n",
    "print('Recall score: ' + str(recall_score(y_train, y_train_pred)))\n",
    "print()\n",
    "y_train_pred = cross_val_predict(sgd_clf, X_train, y_train, cv=3)\n",
    "print('SGD Classifier model')\n",
    "print('confusion matrix: ')\n",
    "print(confusion_matrix(y_train, y_train_pred))\n",
    "print('Precision score: ' + str(precision_score(y_train, y_train_pred)))\n",
    "print('Recall score: ' + str(recall_score(y_train, y_train_pred)))"
   ]
  },
  {
   "cell_type": "code",
   "execution_count": null,
   "metadata": {},
   "outputs": [],
   "source": [
    "#looks like the classification problem is ridiculously easy. But are all the models actually the same? "
   ]
  },
  {
   "cell_type": "code",
   "execution_count": 65,
   "metadata": {},
   "outputs": [
    {
     "name": "stdout",
     "output_type": "stream",
     "text": [
      "linear SVC model:\n",
      "intercept = [-1.28076334]\n",
      "coefficients = [[1.8502869 1.5640157]]\n",
      "\n",
      "SVC model:\n",
      "intercept = [-1.64707417]\n",
      "coefficients = [[2.41156624 2.00030183]]\n",
      "\n",
      "linear SVC model:\n",
      "intercept = [-9.89384727]\n",
      "coefficients = [[10.72274502 10.8074726 ]]\n",
      "\n"
     ]
    }
   ],
   "source": [
    "#compare the decision boundaries of the models \n",
    "print('linear SVC model:')\n",
    "print('intercept = ' + str(lin_svc.intercept_))\n",
    "print('coefficients = ' + str(lin_svc.coef_))\n",
    "print()\n",
    "print('SVC model:')\n",
    "print('intercept = ' + str(svc.intercept_))\n",
    "print('coefficients = ' + str(svc.coef_))\n",
    "print()\n",
    "print('linear SVC model:')\n",
    "print('intercept = ' + str(sgd_clf.intercept_))\n",
    "print('coefficients = ' + str(sgd_clf.coef_))\n",
    "print()"
   ]
  },
  {
   "cell_type": "code",
   "execution_count": 68,
   "metadata": {},
   "outputs": [
    {
     "data": {
      "text/plain": [
       "1.850286901585445"
      ]
     },
     "execution_count": 68,
     "metadata": {},
     "output_type": "execute_result"
    }
   ],
   "source": [
    "# No. The models are not the same but they are similar. \n",
    "lin_svc.coef_[0, 0]"
   ]
  },
  {
   "cell_type": "code",
   "execution_count": 72,
   "metadata": {},
   "outputs": [],
   "source": [
    "#should plot all the training points and the decision boundaries. Need some lines to plot first. \n",
    "slope1 = -lin_svc.coef_[0, 0]/lin_svc.coef_[0, 1]\n",
    "bias1 = -lin_svc.intercept_[0]/lin_svc.coef_[0, 1]\n",
    "slope2 = -svc.coef_[0, 0]/svc.coef_[0, 1]\n",
    "bias2 = -svc.intercept_[0]/svc.coef_[0, 1]\n",
    "slope3 = -sgd_clf.coef_[0, 0]/sgd_clf.coef_[0, 1]\n",
    "bias3 = -sgd_clf.intercept_[0]/sgd_clf.coef_[0, 1]"
   ]
  },
  {
   "cell_type": "code",
   "execution_count": 75,
   "metadata": {},
   "outputs": [
    {
     "data": {
      "text/plain": [
       "<matplotlib.legend.Legend at 0x29ad98b7fd0>"
      ]
     },
     "execution_count": 75,
     "metadata": {},
     "output_type": "execute_result"
    },
    {
     "data": {
      "image/png": "[encoded data removed]",
      "text/plain": [
       "<Figure size 432x288 with 1 Axes>"
      ]
     },
     "metadata": {
      "needs_background": "light"
     },
     "output_type": "display_data"
    }
   ],
   "source": [
    "plt.plot([0,1], [0*slope1+bias1, 1*slope1+bias1], label='linearSVC', c='b')\n",
    "plt.plot([0,1], [0*slope2+bias2, 1*slope2+bias2], label='SVC', c='r')\n",
    "plt.plot([0,1], [0*slope3+bias3, 1*slope3+bias3], label='SGDClassifier', c='g')\n",
    "plt.scatter(X_train[:,0][y_train==1],X_train[:,1][y_train==1], c='b')\n",
    "plt.scatter(X_train[:,0][y_train==0],X_train[:,1][y_train==0], c='r')\n",
    "plt.xlabel('Petal length (scaled)')\n",
    "plt.ylabel('Petal width (scaled)')\n",
    "plt.legend(loc='lower center')"
   ]
  },
  {
   "cell_type": "code",
   "execution_count": null,
   "metadata": {},
   "outputs": [],
   "source": [
    "# So the linearSVC and SVC models look very similar. This is not surprising since I used a linear kernel\n",
    "# for the SVC model. But the SGD Classifier looks very different. Need to modifiy its hyperparameters "
   ]
  },
  {
   "cell_type": "code",
   "execution_count": 83,
   "metadata": {},
   "outputs": [
    {
     "data": {
      "text/plain": [
       "<matplotlib.legend.Legend at 0x29ad98e2ee0>"
      ]
     },
     "execution_count": 83,
     "metadata": {},
     "output_type": "execute_result"
    },
    {
     "data": {
      "image/png": "[encoded data removed]",
      "text/plain": [
       "<Figure size 432x288 with 1 Axes>"
      ]
     },
     "metadata": {
      "needs_background": "light"
     },
     "output_type": "display_data"
    }
   ],
   "source": [
    "#retry with new hyperparameters to get more similar models\n",
    "C = 5\n",
    "alpha = 1 / (C * len(X))\n",
    "\n",
    "#Train on new hyperparameters\n",
    "lin_svc = LinearSVC(C=C)\n",
    "lin_svc.fit(X_train,y_train)\n",
    "\n",
    "svc = SVC(kernel='linear', C=C)\n",
    "svc.fit(X_train, y_train)\n",
    "\n",
    "sgd_clf = SGDClassifier(loss='hinge', learning_rate='constant', eta0=0.001, alpha=alpha, \n",
    "                        max_iter=1000, tol=1e-3)\n",
    "sgd_clf.fit(X_train, y_train)\n",
    "\n",
    "#calculate the new decision boundary\n",
    "slope1 = -lin_svc.coef_[0, 0]/lin_svc.coef_[0, 1]\n",
    "bias1 = -lin_svc.intercept_[0]/lin_svc.coef_[0, 1]\n",
    "slope2 = -svc.coef_[0, 0]/svc.coef_[0, 1]\n",
    "bias2 = -svc.intercept_[0]/svc.coef_[0, 1]\n",
    "slope3 = -sgd_clf.coef_[0, 0]/sgd_clf.coef_[0, 1]\n",
    "bias3 = -sgd_clf.intercept_[0]/sgd_clf.coef_[0, 1]\n",
    "\n",
    "#replot\n",
    "plt.plot([0,1], [0*slope1+bias1, 1*slope1+bias1], label='linearSVC', c='b')\n",
    "plt.plot([0,1], [0*slope2+bias2, 1*slope2+bias2], label='SVC', c='r')\n",
    "plt.plot([0,1], [0*slope4+bias4, 1*slope4+bias4], label='SGDClassifier', c='g')\n",
    "plt.scatter(X_train[:,0][y_train==1],X_train[:,1][y_train==1], c='b')\n",
    "plt.scatter(X_train[:,0][y_train==0],X_train[:,1][y_train==0], c='r')\n",
    "plt.xlabel('Petal length (scaled)')\n",
    "plt.ylabel('Petal width (scaled)')\n",
    "plt.legend(loc='lower center')"
   ]
  },
  {
   "cell_type": "code",
   "execution_count": null,
   "metadata": {},
   "outputs": [],
   "source": [
    "#well now the biases are the same. The slopes are very similar as well. "
   ]
  },
  {
   "cell_type": "markdown",
   "metadata": {},
   "source": [
    "# 9. Train an SVM classifier on the MNIST dataset. \n",
    " - Since SVM classifiers are binary classifiers, you will need to use one versus the rest to classifiy all 10 digits.\n",
    " - Tune the hyperparameters using small validation sets to speed up the process. \n",
    " - What accuracy can you reach?"
   ]
  },
  {
   "cell_type": "code",
   "execution_count": 86,
   "metadata": {},
   "outputs": [],
   "source": [
    "from sklearn.datasets import fetch_openml\n",
    "from sklearn.multiclass import OneVsRestClassifier\n",
    "from sklearn.metrics import accuracy_score\n",
    "from sklearn.preprocessing import StandardScaler\n",
    "\n",
    "mnist = fetch_openml('mnist_784', version=1, cache=True, as_frame=False)\n",
    "\n",
    "X = mnist[\"data\"]\n",
    "y = mnist[\"target\"].astype(np.uint8)\n",
    "\n",
    "scaler = StandardScaler()\n",
    "X_scaled = scaler.fit_transform(X.astype(np.float32))\n",
    "\n",
    "X_train = X_scaled[:60000]\n",
    "y_train = y[:60000]\n",
    "X_test = X_scaled[60000:]\n",
    "y_test = y[60000:]"
   ]
  },
  {
   "cell_type": "code",
   "execution_count": 87,
   "metadata": {},
   "outputs": [
    {
     "name": "stdout",
     "output_type": "stream",
     "text": [
      "linear SVC model\n",
      "confusion matrix: \n",
      "[[5738    2   31    9    8   55   39    8   25    8]\n",
      " [   1 6593   38   16    8    8    5   16   53    4]\n",
      " [  50   94 5368  117   70   26   57   65   97   14]\n",
      " [  22   42  179 5477    9  206    5   43  106   42]\n",
      " [  19   27   65    7 5464   11   36   25   13  175]\n",
      " [  68   30   55  256   41 4753   79    7   94   38]\n",
      " [  54    7   84    4   61   93 5595    0   20    0]\n",
      " [  10   34   75   57   86   16    1 5818   10  158]\n",
      " [  52  127  136  215   33  167   42   31 4994   54]\n",
      " [  23   26   38   75  252   38    2  214   55 5226]]\n"
     ]
    },
    {
     "ename": "NameError",
     "evalue": "name 'y_pred' is not defined",
     "output_type": "error",
     "traceback": [
      "\u001b[1;31m---------------------------------------------------------------------------\u001b[0m",
      "\u001b[1;31mNameError\u001b[0m                                 Traceback (most recent call last)",
      "\u001b[1;32m<ipython-input-87-df2f17a7b1c4>\u001b[0m in \u001b[0;36m<module>\u001b[1;34m\u001b[0m\n\u001b[0;32m      8\u001b[0m \u001b[0mprint\u001b[0m\u001b[1;33m(\u001b[0m\u001b[1;34m'confusion matrix: '\u001b[0m\u001b[1;33m)\u001b[0m\u001b[1;33m\u001b[0m\u001b[1;33m\u001b[0m\u001b[0m\n\u001b[0;32m      9\u001b[0m \u001b[0mprint\u001b[0m\u001b[1;33m(\u001b[0m\u001b[0mconfusion_matrix\u001b[0m\u001b[1;33m(\u001b[0m\u001b[0my_train\u001b[0m\u001b[1;33m,\u001b[0m \u001b[0my_train_pred\u001b[0m\u001b[1;33m)\u001b[0m\u001b[1;33m)\u001b[0m\u001b[1;33m\u001b[0m\u001b[1;33m\u001b[0m\u001b[0m\n\u001b[1;32m---> 10\u001b[1;33m \u001b[0mprint\u001b[0m\u001b[1;33m(\u001b[0m\u001b[1;34m'accuracy = '\u001b[0m \u001b[1;33m+\u001b[0m \u001b[0mstr\u001b[0m\u001b[1;33m(\u001b[0m\u001b[0maccuracy_score\u001b[0m\u001b[1;33m(\u001b[0m\u001b[0my_train\u001b[0m\u001b[1;33m,\u001b[0m \u001b[0my_pred\u001b[0m\u001b[1;33m)\u001b[0m\u001b[1;33m)\u001b[0m \u001b[1;33m+\u001b[0m \u001b[1;34m'%'\u001b[0m\u001b[1;33m)\u001b[0m\u001b[1;33m\u001b[0m\u001b[1;33m\u001b[0m\u001b[0m\n\u001b[0m\u001b[0;32m     11\u001b[0m \u001b[0mprint\u001b[0m\u001b[1;33m(\u001b[0m\u001b[1;34m'Precision score: '\u001b[0m \u001b[1;33m+\u001b[0m \u001b[0mstr\u001b[0m\u001b[1;33m(\u001b[0m\u001b[0mprecision_score\u001b[0m\u001b[1;33m(\u001b[0m\u001b[0my_train\u001b[0m\u001b[1;33m,\u001b[0m \u001b[0my_train_pred\u001b[0m\u001b[1;33m)\u001b[0m\u001b[1;33m)\u001b[0m\u001b[1;33m)\u001b[0m\u001b[1;33m\u001b[0m\u001b[1;33m\u001b[0m\u001b[0m\n\u001b[0;32m     12\u001b[0m \u001b[0mprint\u001b[0m\u001b[1;33m(\u001b[0m\u001b[1;34m'Recall score: '\u001b[0m \u001b[1;33m+\u001b[0m \u001b[0mstr\u001b[0m\u001b[1;33m(\u001b[0m\u001b[0mrecall_score\u001b[0m\u001b[1;33m(\u001b[0m\u001b[0my_train\u001b[0m\u001b[1;33m,\u001b[0m \u001b[0my_train_pred\u001b[0m\u001b[1;33m)\u001b[0m\u001b[1;33m)\u001b[0m\u001b[1;33m)\u001b[0m\u001b[1;33m\u001b[0m\u001b[1;33m\u001b[0m\u001b[0m\n",
      "\u001b[1;31mNameError\u001b[0m: name 'y_pred' is not defined"
     ]
    }
   ],
   "source": [
    "#train the model \n",
    "ovr_clf = SVC(kernel='linear', decision_function_shape='ovr', random_state=42)\n",
    "ovr_clf.fit(X_train, y_train)\n",
    "\n",
    "#evaluate the model\n",
    "y_train_pred = cross_val_predict(ovr_clf, X_train, y_train, cv=3)\n",
    "print('linear SVC model')\n",
    "print('confusion matrix: ')\n",
    "print(confusion_matrix(y_train, y_train_pred))"
   ]
  },
  {
   "cell_type": "code",
   "execution_count": 90,
   "metadata": {},
   "outputs": [
    {
     "name": "stdout",
     "output_type": "stream",
     "text": [
      "accuracy = 0.9171%\n"
     ]
    }
   ],
   "source": [
    "print('accuracy = ' + str(accuracy_score(y_train, y_train_pred)) + '%')\n",
    "# 91% is not great for mnist"
   ]
  },
  {
   "cell_type": "code",
   "execution_count": 120,
   "metadata": {},
   "outputs": [
    {
     "name": "stdout",
     "output_type": "stream",
     "text": [
      "Fitting 5 folds for each of 9 candidates, totalling 45 fits\n",
      "[CV] C=3, gamma=0.001 ................................................\n"
     ]
    },
    {
     "name": "stderr",
     "output_type": "stream",
     "text": [
      "[Parallel(n_jobs=1)]: Using backend SequentialBackend with 1 concurrent workers.\n"
     ]
    },
    {
     "name": "stdout",
     "output_type": "stream",
     "text": [
      "[CV] ................................. C=3, gamma=0.001, total=   1.1s\n",
      "[CV] C=3, gamma=0.001 ................................................\n"
     ]
    },
    {
     "name": "stderr",
     "output_type": "stream",
     "text": [
      "[Parallel(n_jobs=1)]: Done   1 out of   1 | elapsed:    2.0s remaining:    0.0s\n"
     ]
    },
    {
     "name": "stdout",
     "output_type": "stream",
     "text": [
      "[CV] ................................. C=3, gamma=0.001, total=   1.1s\n",
      "[CV] C=3, gamma=0.001 ................................................\n",
      "[CV] ................................. C=3, gamma=0.001, total=   1.0s\n",
      "[CV] C=3, gamma=0.001 ................................................\n",
      "[CV] ................................. C=3, gamma=0.001, total=   1.1s\n",
      "[CV] C=3, gamma=0.001 ................................................\n",
      "[CV] ................................. C=3, gamma=0.001, total=   1.1s\n",
      "[CV] C=3, gamma=0.01 .................................................\n",
      "[CV] .................................. C=3, gamma=0.01, total=   2.0s\n",
      "[CV] C=3, gamma=0.01 .................................................\n",
      "[CV] .................................. C=3, gamma=0.01, total=   2.0s\n",
      "[CV] C=3, gamma=0.01 .................................................\n",
      "[CV] .................................. C=3, gamma=0.01, total=   2.1s\n",
      "[CV] C=3, gamma=0.01 .................................................\n",
      "[CV] .................................. C=3, gamma=0.01, total=   2.0s\n",
      "[CV] C=3, gamma=0.01 .................................................\n",
      "[CV] .................................. C=3, gamma=0.01, total=   2.1s\n",
      "[CV] C=3, gamma=0.1 ..................................................\n",
      "[CV] ................................... C=3, gamma=0.1, total=   2.1s\n",
      "[CV] C=3, gamma=0.1 ..................................................\n",
      "[CV] ................................... C=3, gamma=0.1, total=   2.1s\n",
      "[CV] C=3, gamma=0.1 ..................................................\n",
      "[CV] ................................... C=3, gamma=0.1, total=   2.1s\n",
      "[CV] C=3, gamma=0.1 ..................................................\n",
      "[CV] ................................... C=3, gamma=0.1, total=   2.2s\n",
      "[CV] C=3, gamma=0.1 ..................................................\n",
      "[CV] ................................... C=3, gamma=0.1, total=   2.2s\n",
      "[CV] C=5, gamma=0.001 ................................................\n",
      "[CV] ................................. C=5, gamma=0.001, total=   1.2s\n",
      "[CV] C=5, gamma=0.001 ................................................\n",
      "[CV] ................................. C=5, gamma=0.001, total=   1.3s\n",
      "[CV] C=5, gamma=0.001 ................................................\n",
      "[CV] ................................. C=5, gamma=0.001, total=   1.2s\n",
      "[CV] C=5, gamma=0.001 ................................................\n",
      "[CV] ................................. C=5, gamma=0.001, total=   1.3s\n",
      "[CV] C=5, gamma=0.001 ................................................\n",
      "[CV] ................................. C=5, gamma=0.001, total=   1.2s\n",
      "[CV] C=5, gamma=0.01 .................................................\n",
      "[CV] .................................. C=5, gamma=0.01, total=   2.1s\n",
      "[CV] C=5, gamma=0.01 .................................................\n",
      "[CV] .................................. C=5, gamma=0.01, total=   2.3s\n",
      "[CV] C=5, gamma=0.01 .................................................\n",
      "[CV] .................................. C=5, gamma=0.01, total=   2.2s\n",
      "[CV] C=5, gamma=0.01 .................................................\n",
      "[CV] .................................. C=5, gamma=0.01, total=   2.2s\n",
      "[CV] C=5, gamma=0.01 .................................................\n",
      "[CV] .................................. C=5, gamma=0.01, total=   2.3s\n",
      "[CV] C=5, gamma=0.1 ..................................................\n",
      "[CV] ................................... C=5, gamma=0.1, total=   2.2s\n",
      "[CV] C=5, gamma=0.1 ..................................................\n",
      "[CV] ................................... C=5, gamma=0.1, total=   2.3s\n",
      "[CV] C=5, gamma=0.1 ..................................................\n",
      "[CV] ................................... C=5, gamma=0.1, total=   2.3s\n",
      "[CV] C=5, gamma=0.1 ..................................................\n",
      "[CV] ................................... C=5, gamma=0.1, total=   2.2s\n",
      "[CV] C=5, gamma=0.1 ..................................................\n",
      "[CV] ................................... C=5, gamma=0.1, total=   2.2s\n",
      "[CV] C=7, gamma=0.001 ................................................\n",
      "[CV] ................................. C=7, gamma=0.001, total=   1.3s\n",
      "[CV] C=7, gamma=0.001 ................................................\n",
      "[CV] ................................. C=7, gamma=0.001, total=   1.3s\n",
      "[CV] C=7, gamma=0.001 ................................................\n",
      "[CV] ................................. C=7, gamma=0.001, total=   1.2s\n",
      "[CV] C=7, gamma=0.001 ................................................\n",
      "[CV] ................................. C=7, gamma=0.001, total=   1.3s\n",
      "[CV] C=7, gamma=0.001 ................................................\n",
      "[CV] ................................. C=7, gamma=0.001, total=   1.2s\n",
      "[CV] C=7, gamma=0.01 .................................................\n",
      "[CV] .................................. C=7, gamma=0.01, total=   2.3s\n",
      "[CV] C=7, gamma=0.01 .................................................\n",
      "[CV] .................................. C=7, gamma=0.01, total=   2.2s\n",
      "[CV] C=7, gamma=0.01 .................................................\n",
      "[CV] .................................. C=7, gamma=0.01, total=   2.1s\n",
      "[CV] C=7, gamma=0.01 .................................................\n",
      "[CV] .................................. C=7, gamma=0.01, total=   2.1s\n",
      "[CV] C=7, gamma=0.01 .................................................\n",
      "[CV] .................................. C=7, gamma=0.01, total=   2.2s\n",
      "[CV] C=7, gamma=0.1 ..................................................\n",
      "[CV] ................................... C=7, gamma=0.1, total=   2.3s\n",
      "[CV] C=7, gamma=0.1 ..................................................\n",
      "[CV] ................................... C=7, gamma=0.1, total=   2.6s\n",
      "[CV] C=7, gamma=0.1 ..................................................\n",
      "[CV] ................................... C=7, gamma=0.1, total=   3.1s\n",
      "[CV] C=7, gamma=0.1 ..................................................\n",
      "[CV] ................................... C=7, gamma=0.1, total=   3.1s\n",
      "[CV] C=7, gamma=0.1 ..................................................\n",
      "[CV] ................................... C=7, gamma=0.1, total=   2.4s\n"
     ]
    },
    {
     "name": "stderr",
     "output_type": "stream",
     "text": [
      "[Parallel(n_jobs=1)]: Done  45 out of  45 | elapsed:  2.3min finished\n"
     ]
    },
    {
     "data": {
      "text/plain": [
       "GridSearchCV(cv=5, estimator=SVC(random_state=42),\n",
       "             param_grid=[{'C': [3, 5, 7], 'gamma': [0.001, 0.01, 0.1]}],\n",
       "             return_train_score=True, scoring='accuracy', verbose=2)"
      ]
     },
     "execution_count": 120,
     "metadata": {},
     "output_type": "execute_result"
    }
   ],
   "source": [
    "#train on a smaller portion of the dataset to speed up the hyperparameter tuning\n",
    "from sklearn.model_selection import GridSearchCV\n",
    "\n",
    "param_grid=[\n",
    "    {'C':[3,5,7], 'gamma':[0.001, 0.01, 0.1]},\n",
    "]\n",
    "\n",
    "ovr_clf = SVC(decision_function_shape='ovr', random_state=42)\n",
    "grid_search = GridSearchCV(ovr_clf, param_grid, cv=5,\n",
    "                                scoring='accuracy',\n",
    "                                verbose=2,\n",
    "                                return_train_score=True)\n",
    "\n",
    "grid_search.fit(X_train[:1000], y_train[:1000])"
   ]
  },
  {
   "cell_type": "code",
   "execution_count": 123,
   "metadata": {},
   "outputs": [
    {
     "name": "stdout",
     "output_type": "stream",
     "text": [
      "best params: \n",
      "{'C': 5, 'gamma': 0.001}\n",
      "\n"
     ]
    }
   ],
   "source": [
    "print('best params: ')\n",
    "print(grid_search.best_params_)\n",
    "print()"
   ]
  },
  {
   "cell_type": "code",
   "execution_count": 125,
   "metadata": {},
   "outputs": [
    {
     "data": {
      "text/plain": [
       "SVC(C=5, gamma=0.001, random_state=42)"
      ]
     },
     "execution_count": 125,
     "metadata": {},
     "output_type": "execute_result"
    }
   ],
   "source": [
    "grid_search.best_estimator_.fit(X_train, y_train)"
   ]
  },
  {
   "cell_type": "code",
   "execution_count": 129,
   "metadata": {},
   "outputs": [
    {
     "name": "stdout",
     "output_type": "stream",
     "text": [
      "linear SVC model\n",
      "confusion matrix: \n",
      "[[5918    0    0    0    0    0    2    0    2    1]\n",
      " [   1 6729    1    1    0    0    0    5    1    4]\n",
      " [   1    3 5941    1    5    0    0    4    3    0]\n",
      " [   0    2    5 6086    0   13    0    6   12    7]\n",
      " [   1    4    0    0 5809    0    3    0    2   23]\n",
      " [   1    0    0   10    1 5396    8    0    2    3]\n",
      " [   4    0    0    0    4    2 5908    0    0    0]\n",
      " [   1   15    4    0    8    0    0 6222    1   14]\n",
      " [   1   11    2    5    1    4    1    2 5820    4]\n",
      " [   2    3    0    5   19    2    1   13    7 5897]]\n"
     ]
    },
    {
     "ename": "NameError",
     "evalue": "name 'y_pred' is not defined",
     "output_type": "error",
     "traceback": [
      "\u001b[1;31m---------------------------------------------------------------------------\u001b[0m",
      "\u001b[1;31mNameError\u001b[0m                                 Traceback (most recent call last)",
      "\u001b[1;32m<ipython-input-129-20dfac34c163>\u001b[0m in \u001b[0;36m<module>\u001b[1;34m\u001b[0m\n\u001b[0;32m      4\u001b[0m \u001b[0mprint\u001b[0m\u001b[1;33m(\u001b[0m\u001b[1;34m'confusion matrix: '\u001b[0m\u001b[1;33m)\u001b[0m\u001b[1;33m\u001b[0m\u001b[1;33m\u001b[0m\u001b[0m\n\u001b[0;32m      5\u001b[0m \u001b[0mprint\u001b[0m\u001b[1;33m(\u001b[0m\u001b[0mconfusion_matrix\u001b[0m\u001b[1;33m(\u001b[0m\u001b[0my_train\u001b[0m\u001b[1;33m,\u001b[0m \u001b[0my_train_pred\u001b[0m\u001b[1;33m)\u001b[0m\u001b[1;33m)\u001b[0m\u001b[1;33m\u001b[0m\u001b[1;33m\u001b[0m\u001b[0m\n\u001b[1;32m----> 6\u001b[1;33m \u001b[0mprint\u001b[0m\u001b[1;33m(\u001b[0m\u001b[1;34m'accuracy = '\u001b[0m \u001b[1;33m+\u001b[0m \u001b[0mstr\u001b[0m\u001b[1;33m(\u001b[0m\u001b[0maccuracy_score\u001b[0m\u001b[1;33m(\u001b[0m\u001b[0my_train\u001b[0m\u001b[1;33m,\u001b[0m \u001b[0my_pred\u001b[0m\u001b[1;33m)\u001b[0m\u001b[1;33m)\u001b[0m \u001b[1;33m+\u001b[0m \u001b[1;34m'%'\u001b[0m\u001b[1;33m)\u001b[0m\u001b[1;33m\u001b[0m\u001b[1;33m\u001b[0m\u001b[0m\n\u001b[0m\u001b[0;32m      7\u001b[0m \u001b[0mprint\u001b[0m\u001b[1;33m(\u001b[0m\u001b[1;34m'Precision score: '\u001b[0m \u001b[1;33m+\u001b[0m \u001b[0mstr\u001b[0m\u001b[1;33m(\u001b[0m\u001b[0mprecision_score\u001b[0m\u001b[1;33m(\u001b[0m\u001b[0my_train\u001b[0m\u001b[1;33m,\u001b[0m \u001b[0my_train_pred\u001b[0m\u001b[1;33m)\u001b[0m\u001b[1;33m)\u001b[0m\u001b[1;33m)\u001b[0m\u001b[1;33m\u001b[0m\u001b[1;33m\u001b[0m\u001b[0m\n\u001b[0;32m      8\u001b[0m \u001b[0mprint\u001b[0m\u001b[1;33m(\u001b[0m\u001b[1;34m'Recall score: '\u001b[0m \u001b[1;33m+\u001b[0m \u001b[0mstr\u001b[0m\u001b[1;33m(\u001b[0m\u001b[0mrecall_score\u001b[0m\u001b[1;33m(\u001b[0m\u001b[0my_train\u001b[0m\u001b[1;33m,\u001b[0m \u001b[0my_train_pred\u001b[0m\u001b[1;33m)\u001b[0m\u001b[1;33m)\u001b[0m\u001b[1;33m)\u001b[0m\u001b[1;33m\u001b[0m\u001b[1;33m\u001b[0m\u001b[0m\n",
      "\u001b[1;31mNameError\u001b[0m: name 'y_pred' is not defined"
     ]
    }
   ],
   "source": [
    "#evaluate the model\n",
    "y_train_pred = grid_search.best_estimator_.predict(X_train)\n",
    "print('linear SVC model')\n",
    "print('confusion matrix: ')\n",
    "print(confusion_matrix(y_train, y_train_pred))\n",
    "print('accuracy = ' + str(accuracy_score(y_train, y_train_pred)) + '%')\n",
    "print('Precision score: ' + str(precision_score(y_train, y_train_pred)))\n",
    "print('Recall score: ' + str(recall_score(y_train, y_train_pred)))\n",
    "print()\n",
    "\n",
    "#check for over/underfitting\n",
    "y_pred = grid_search_cv.best_estimator_.predict(X_test)\n",
    "print('test set accuracy = ' + accuracy_score(y_test, y_pred) + '%')"
   ]
  },
  {
   "cell_type": "markdown",
   "metadata": {},
   "source": [
    "# 10. Train an SVM Regressor on the California Housing dataset."
   ]
  },
  {
   "cell_type": "code",
   "execution_count": 130,
   "metadata": {},
   "outputs": [],
   "source": [
    "#load and unpack the data\n",
    "from sklearn.datasets import fetch_california_housing\n",
    "from sklearn.svm import SVR\n",
    "housing = fetch_california_housing()\n",
    "X = housing[\"data\"]\n",
    "y = housing[\"target\"]"
   ]
  },
  {
   "cell_type": "code",
   "execution_count": 146,
   "metadata": {},
   "outputs": [],
   "source": [
    "#split the dataset\n",
    "X_train, X_test, y_train, y_test = train_test_split(X, y, test_size=0.25, random_state=42)\n",
    "\n",
    "#scale the data\n",
    "scaler = StandardScaler()\n",
    "X_train = scaler.fit_transform(X_train)\n",
    "X_test = scaler.transform(X_test)"
   ]
  },
  {
   "cell_type": "code",
   "execution_count": null,
   "metadata": {},
   "outputs": [],
   "source": []
  },
  {
   "cell_type": "code",
   "execution_count": 134,
   "metadata": {},
   "outputs": [
    {
     "data": {
      "text/plain": [
       "SVR()"
      ]
     },
     "execution_count": 134,
     "metadata": {},
     "output_type": "execute_result"
    }
   ],
   "source": [
    "#train the model\n",
    "svr = SVR()\n",
    "svr.fit(X_train, y_train)"
   ]
  },
  {
   "cell_type": "code",
   "execution_count": 136,
   "metadata": {},
   "outputs": [
    {
     "name": "stdout",
     "output_type": "stream",
     "text": [
      "Root Mean Squared Error for SVR model: 0.5819774572966296\n"
     ]
    }
   ],
   "source": [
    "#evaluate the model\n",
    "from sklearn.metrics import mean_squared_error\n",
    "y_train_pred = svr.predict(X_train)\n",
    "print('Root Mean Squared Error for SVR model: ' + str(np.sqrt(mean_squared_error(y_train, y_train_pred))))"
   ]
  },
  {
   "cell_type": "code",
   "execution_count": null,
   "metadata": {},
   "outputs": [],
   "source": [
    "from sklearn.model_selection import RandomizedSearchCV\n",
    "from scipy.stats import reciprocal, uniform"
   ]
  },
  {
   "cell_type": "code",
   "execution_count": 147,
   "metadata": {},
   "outputs": [
    {
     "name": "stdout",
     "output_type": "stream",
     "text": [
      "Fitting 3 folds for each of 8 candidates, totalling 24 fits\n",
      "[CV] C=2.8727005942368127, gamma=0.07969454818643928 .................\n"
     ]
    },
    {
     "name": "stderr",
     "output_type": "stream",
     "text": [
      "[Parallel(n_jobs=1)]: Using backend SequentialBackend with 1 concurrent workers.\n"
     ]
    },
    {
     "name": "stdout",
     "output_type": "stream",
     "text": [
      "[CV] .. C=2.8727005942368127, gamma=0.07969454818643928, total=  12.7s\n",
      "[CV] C=2.8727005942368127, gamma=0.07969454818643928 .................\n"
     ]
    },
    {
     "name": "stderr",
     "output_type": "stream",
     "text": [
      "[Parallel(n_jobs=1)]: Done   1 out of   1 | elapsed:   12.6s remaining:    0.0s\n"
     ]
    },
    {
     "name": "stdout",
     "output_type": "stream",
     "text": [
      "[CV] .. C=2.8727005942368127, gamma=0.07969454818643928, total=  12.4s\n",
      "[CV] C=2.8727005942368127, gamma=0.07969454818643928 .................\n",
      "[CV] .. C=2.8727005942368127, gamma=0.07969454818643928, total=  12.5s\n",
      "[CV] C=4.659969709057025, gamma=0.015751320499779724 .................\n",
      "[CV] .. C=4.659969709057025, gamma=0.015751320499779724, total=  11.9s\n",
      "[CV] C=4.659969709057025, gamma=0.015751320499779724 .................\n",
      "[CV] .. C=4.659969709057025, gamma=0.015751320499779724, total=  11.5s\n",
      "[CV] C=4.659969709057025, gamma=0.015751320499779724 .................\n",
      "[CV] .. C=4.659969709057025, gamma=0.015751320499779724, total=  11.8s\n",
      "[CV] C=1.7800932022121825, gamma=0.002051110418843397 ................\n",
      "[CV] . C=1.7800932022121825, gamma=0.002051110418843397, total=  11.2s\n",
      "[CV] C=1.7800932022121825, gamma=0.002051110418843397 ................\n",
      "[CV] . C=1.7800932022121825, gamma=0.002051110418843397, total=  11.2s\n",
      "[CV] C=1.7800932022121825, gamma=0.002051110418843397 ................\n",
      "[CV] . C=1.7800932022121825, gamma=0.002051110418843397, total=  11.0s\n",
      "[CV] C=1.2904180608409974, gamma=0.05399484409787431 .................\n",
      "[CV] .. C=1.2904180608409974, gamma=0.05399484409787431, total=  11.6s\n",
      "[CV] C=1.2904180608409974, gamma=0.05399484409787431 .................\n",
      "[CV] .. C=1.2904180608409974, gamma=0.05399484409787431, total=  11.1s\n",
      "[CV] C=1.2904180608409974, gamma=0.05399484409787431 .................\n",
      "[CV] .. C=1.2904180608409974, gamma=0.05399484409787431, total=  12.4s\n",
      "[CV] C=4.005575058716044, gamma=0.026070247583707663 .................\n",
      "[CV] .. C=4.005575058716044, gamma=0.026070247583707663, total=  13.1s\n",
      "[CV] C=4.005575058716044, gamma=0.026070247583707663 .................\n",
      "[CV] .. C=4.005575058716044, gamma=0.026070247583707663, total=  13.2s\n",
      "[CV] C=4.005575058716044, gamma=0.026070247583707663 .................\n",
      "[CV] .. C=4.005575058716044, gamma=0.026070247583707663, total=  12.5s\n",
      "[CV] C=1.1029224714790122, gamma=0.0870602087830485 ..................\n",
      "[CV] ... C=1.1029224714790122, gamma=0.0870602087830485, total=  10.8s\n",
      "[CV] C=1.1029224714790122, gamma=0.0870602087830485 ..................\n",
      "[CV] ... C=1.1029224714790122, gamma=0.0870602087830485, total=  10.9s\n",
      "[CV] C=1.1029224714790122, gamma=0.0870602087830485 ..................\n",
      "[CV] ... C=1.1029224714790122, gamma=0.0870602087830485, total=  10.5s\n",
      "[CV] C=5.162213204002109, gamma=0.0026587543983272693 ................\n",
      "[CV] . C=5.162213204002109, gamma=0.0026587543983272693, total=  10.9s\n",
      "[CV] C=5.162213204002109, gamma=0.0026587543983272693 ................\n",
      "[CV] . C=5.162213204002109, gamma=0.0026587543983272693, total=  10.7s\n",
      "[CV] C=5.162213204002109, gamma=0.0026587543983272693 ................\n",
      "[CV] . C=5.162213204002109, gamma=0.0026587543983272693, total=  11.9s\n",
      "[CV] C=1.909124836035503, gamma=0.0023270677083837795 ................\n",
      "[CV] . C=1.909124836035503, gamma=0.0023270677083837795, total=  11.5s\n",
      "[CV] C=1.909124836035503, gamma=0.0023270677083837795 ................\n",
      "[CV] . C=1.909124836035503, gamma=0.0023270677083837795, total=  13.0s\n",
      "[CV] C=1.909124836035503, gamma=0.0023270677083837795 ................\n",
      "[CV] . C=1.909124836035503, gamma=0.0023270677083837795, total=  12.2s\n"
     ]
    },
    {
     "name": "stderr",
     "output_type": "stream",
     "text": [
      "[Parallel(n_jobs=1)]: Done  24 out of  24 | elapsed:  4.7min finished\n"
     ]
    },
    {
     "data": {
      "text/plain": [
       "RandomizedSearchCV(cv=3, estimator=SVR(), n_iter=8,\n",
       "                   param_distributions=[{'C': <scipy.stats._distn_infrastructure.rv_frozen object at 0x0000029AD994FD30>,\n",
       "                                         'gamma': <scipy.stats._distn_infrastructure.rv_frozen object at 0x0000029AD9A22580>}],\n",
       "                   random_state=42, verbose=2)"
      ]
     },
     "execution_count": 147,
     "metadata": {},
     "output_type": "execute_result"
    }
   ],
   "source": [
    "#try some hyperparameter tuning\n",
    "param_dist = [\n",
    "    {\"gamma\": reciprocal(0.001, 0.1), \"C\": uniform(1, 5)}\n",
    "]\n",
    "\n",
    "rand_search_cv = RandomizedSearchCV(SVR(), param_dist, \n",
    "                                    n_iter=8, \n",
    "                                    verbose=2, \n",
    "                                    cv=3, \n",
    "                                    random_state=42)\n",
    "rand_search_cv.fit(X_train, y_train)"
   ]
  },
  {
   "cell_type": "code",
   "execution_count": 149,
   "metadata": {},
   "outputs": [
    {
     "name": "stdout",
     "output_type": "stream",
     "text": [
      "best params: \n",
      "{'C': 2.8727005942368127, 'gamma': 0.07969454818643928}\n"
     ]
    }
   ],
   "source": [
    "print('best params: ')\n",
    "print(rand_search_cv.best_params_)"
   ]
  },
  {
   "cell_type": "code",
   "execution_count": null,
   "metadata": {},
   "outputs": [],
   "source": []
  },
  {
   "cell_type": "code",
   "execution_count": 154,
   "metadata": {},
   "outputs": [
    {
     "data": {
      "text/plain": [
       "SVR(C=2.8727005942368127, gamma=0.07969454818643928)"
      ]
     },
     "execution_count": 154,
     "metadata": {},
     "output_type": "execute_result"
    }
   ],
   "source": [
    "rand_search_cv.best_estimator_.fit(X_train, y_train)"
   ]
  },
  {
   "cell_type": "code",
   "execution_count": 156,
   "metadata": {},
   "outputs": [
    {
     "name": "stdout",
     "output_type": "stream",
     "text": [
      "Root Mean Squared Error for SVR model: 0.5837259747469998\n"
     ]
    }
   ],
   "source": [
    "#evaluate the optimized model\n",
    "y_train_pred = rand_search_cv.best_estimator_.predict(X_train)\n",
    "print('Root Mean Squared Error for SVR model: ' + str(np.sqrt(mean_squared_error(y_train, y_train_pred))))"
   ]
  },
  {
   "cell_type": "code",
   "execution_count": 158,
   "metadata": {},
   "outputs": [
    {
     "name": "stdout",
     "output_type": "stream",
     "text": [
      "{'mean_fit_time': array([10.30396827,  9.58124995,  8.78003907,  9.50419378, 10.63640086,\n",
      "        8.69959879,  8.8027362 ,  9.74141184]), 'std_fit_time': array([0.19234508, 0.15861087, 0.09660366, 0.56185443, 0.22192914,\n",
      "       0.18006158, 0.29584123, 0.41387429]), 'mean_score_time': array([2.21933309, 2.18700814, 2.34600806, 2.21068859, 2.31600205,\n",
      "       2.05522323, 2.38402987, 2.51867191]), 'std_score_time': array([0.08218747, 0.0191859 , 0.05661766, 0.02335452, 0.20239579,\n",
      "       0.01734654, 0.24020432, 0.18357319]), 'param_C': masked_array(data=[2.8727005942368127, 4.659969709057025,\n",
      "                   1.7800932022121825, 1.2904180608409974,\n",
      "                   4.005575058716044, 1.1029224714790122,\n",
      "                   5.162213204002109, 1.909124836035503],\n",
      "             mask=[False, False, False, False, False, False, False, False],\n",
      "       fill_value='?',\n",
      "            dtype=object), 'param_gamma': masked_array(data=[0.07969454818643928, 0.015751320499779724,\n",
      "                   0.002051110418843397, 0.05399484409787431,\n",
      "                   0.026070247583707663, 0.0870602087830485,\n",
      "                   0.0026587543983272693, 0.0023270677083837795],\n",
      "             mask=[False, False, False, False, False, False, False, False],\n",
      "       fill_value='?',\n",
      "            dtype=object), 'params': [{'C': 2.8727005942368127, 'gamma': 0.07969454818643928}, {'C': 4.659969709057025, 'gamma': 0.015751320499779724}, {'C': 1.7800932022121825, 'gamma': 0.002051110418843397}, {'C': 1.2904180608409974, 'gamma': 0.05399484409787431}, {'C': 4.005575058716044, 'gamma': 0.026070247583707663}, {'C': 1.1029224714790122, 'gamma': 0.0870602087830485}, {'C': 5.162213204002109, 'gamma': 0.0026587543983272693}, {'C': 1.909124836035503, 'gamma': 0.0023270677083837795}], 'split0_test_score': array([0.73064641, 0.69038702, 0.60903132, 0.7087156 , 0.70176111,\n",
      "       0.72014795, 0.62400472, 0.61309892]), 'split1_test_score': array([0.73118729, 0.685691  , 0.62709152, 0.71315889, 0.69804319,\n",
      "       0.7244718 , 0.6457351 , 0.63176336]), 'split2_test_score': array([0.7265879 , 0.6909777 , 0.60853136, 0.70629431, 0.70109548,\n",
      "       0.71720382, 0.63378163, 0.61322866]), 'mean_test_score': array([0.72947387, 0.68901857, 0.61488473, 0.7093896 , 0.70029993,\n",
      "       0.72060786, 0.63450715, 0.61936365]), 'std_test_score': array([0.0020526 , 0.00236528, 0.00863392, 0.00284269, 0.00161873,\n",
      "       0.00298491, 0.00888621, 0.00876808]), 'rank_test_score': array([1, 5, 8, 3, 4, 2, 6, 7])}\n"
     ]
    }
   ],
   "source": [
    "print(cvres)"
   ]
  },
  {
   "cell_type": "code",
   "execution_count": null,
   "metadata": {},
   "outputs": [],
   "source": []
  }
 ],
 "metadata": {
  "kernelspec": {
   "display_name": "Python 3",
   "language": "python",
   "name": "python3"
  },
  "language_info": {
   "codemirror_mode": {
    "name": "ipython",
    "version": 3
   },
   "file_extension": ".py",
   "mimetype": "text/x-python",
   "name": "python",
   "nbconvert_exporter": "python",
   "pygments_lexer": "ipython3",
   "version": "3.8.5"
  }
 },
 "nbformat": 4,
 "nbformat_minor": 4
}
