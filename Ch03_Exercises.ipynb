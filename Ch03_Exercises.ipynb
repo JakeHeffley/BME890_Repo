{
 "cells": [
  {
   "cell_type": "markdown",
   "metadata": {},
   "source": [
    "# 1. Try to build a classifier for the MNIST dataset that acheives over 97% accuracy on the test set. "
   ]
  },
  {
   "cell_type": "code",
   "execution_count": 1,
   "metadata": {},
   "outputs": [],
   "source": [
    "from sklearn.datasets import fetch_openml"
   ]
  },
  {
   "cell_type": "code",
   "execution_count": 2,
   "metadata": {},
   "outputs": [],
   "source": [
    "import matplotlib.pyplot as plt\n",
    "import numpy as np"
   ]
  },
  {
   "cell_type": "code",
   "execution_count": 3,
   "metadata": {},
   "outputs": [],
   "source": [
    "mnist = fetch_openml('mnist_784', version=1)"
   ]
  },
  {
   "cell_type": "code",
   "execution_count": 4,
   "metadata": {},
   "outputs": [
    {
     "data": {
      "text/plain": [
       "dict_keys(['data', 'target', 'frame', 'categories', 'feature_names', 'target_names', 'DESCR', 'details', 'url'])"
      ]
     },
     "execution_count": 4,
     "metadata": {},
     "output_type": "execute_result"
    }
   ],
   "source": [
    "mnist.keys()"
   ]
  },
  {
   "cell_type": "code",
   "execution_count": 5,
   "metadata": {},
   "outputs": [
    {
     "name": "stdout",
     "output_type": "stream",
     "text": [
      "(70000, 784)\n",
      "(70000,)\n"
     ]
    }
   ],
   "source": [
    "X,y = mnist['data'], mnist['target']\n",
    "print(X.shape)\n",
    "print(y.shape)"
   ]
  },
  {
   "cell_type": "code",
   "execution_count": 6,
   "metadata": {},
   "outputs": [],
   "source": [
    "# make a training set\n",
    "from sklearn.model_selection import train_test_split\n",
    "X_train, X_test, y_train, y_test = train_test_split(X, y, \n",
    "    test_size=0.2, random_state=42)"
   ]
  },
  {
   "cell_type": "code",
   "execution_count": 144,
   "metadata": {},
   "outputs": [],
   "source": [
    "#KNeighborsClassifier\n",
    "# optimize wights and n_neighbors hyperparameters\n",
    "from sklearn.neighbors import KNeighborsClassifier\n",
    "from sklearn.model_selection import GridSearchCV"
   ]
  },
  {
   "cell_type": "code",
   "execution_count": 142,
   "metadata": {},
   "outputs": [],
   "source": [
    "#create a parameter grid to use in grid search\n",
    "param_grid= [\n",
    "    {'weights':['uniform','distance'], 'n_neighbors':[3,4,6]}\n",
    "]"
   ]
  },
  {
   "cell_type": "code",
   "execution_count": 145,
   "metadata": {},
   "outputs": [
    {
     "name": "stdout",
     "output_type": "stream",
     "text": [
      "Fitting 4 folds for each of 6 candidates, totalling 24 fits\n"
     ]
    },
    {
     "name": "stderr",
     "output_type": "stream",
     "text": [
      "[Parallel(n_jobs=1)]: Using backend SequentialBackend with 1 concurrent workers.\n"
     ]
    },
    {
     "name": "stdout",
     "output_type": "stream",
     "text": [
      "[CV] n_neighbors=3, weights=uniform ..................................\n",
      "[CV] ...... n_neighbors=3, weights=uniform, score=0.969, total=27.5min\n",
      "[CV] n_neighbors=3, weights=uniform ..................................\n"
     ]
    },
    {
     "name": "stderr",
     "output_type": "stream",
     "text": [
      "[Parallel(n_jobs=1)]: Done   1 out of   1 | elapsed: 27.5min remaining:    0.0s\n"
     ]
    },
    {
     "name": "stdout",
     "output_type": "stream",
     "text": [
      "[CV] ...... n_neighbors=3, weights=uniform, score=0.969, total=26.7min\n",
      "[CV] n_neighbors=3, weights=uniform ..................................\n"
     ]
    },
    {
     "name": "stderr",
     "output_type": "stream",
     "text": [
      "[Parallel(n_jobs=1)]: Done   2 out of   2 | elapsed: 54.3min remaining:    0.0s\n"
     ]
    },
    {
     "name": "stdout",
     "output_type": "stream",
     "text": [
      "[CV] ...... n_neighbors=3, weights=uniform, score=0.971, total=27.0min\n",
      "[CV] n_neighbors=3, weights=uniform ..................................\n"
     ]
    },
    {
     "name": "stderr",
     "output_type": "stream",
     "text": [
      "[Parallel(n_jobs=1)]: Done   3 out of   3 | elapsed: 81.3min remaining:    0.0s\n"
     ]
    },
    {
     "name": "stdout",
     "output_type": "stream",
     "text": [
      "[CV] ...... n_neighbors=3, weights=uniform, score=0.968, total=26.8min\n",
      "[CV] n_neighbors=3, weights=distance .................................\n",
      "[CV] ..... n_neighbors=3, weights=distance, score=0.971, total=26.9min\n",
      "[CV] n_neighbors=3, weights=distance .................................\n",
      "[CV] ..... n_neighbors=3, weights=distance, score=0.971, total=27.2min\n",
      "[CV] n_neighbors=3, weights=distance .................................\n",
      "[CV] ..... n_neighbors=3, weights=distance, score=0.972, total=27.1min\n",
      "[CV] n_neighbors=3, weights=distance .................................\n",
      "[CV] ..... n_neighbors=3, weights=distance, score=0.969, total=27.2min\n",
      "[CV] n_neighbors=4, weights=uniform ..................................\n",
      "[CV] ...... n_neighbors=4, weights=uniform, score=0.968, total=27.2min\n",
      "[CV] n_neighbors=4, weights=uniform ..................................\n",
      "[CV] ...... n_neighbors=4, weights=uniform, score=0.969, total=27.5min\n",
      "[CV] n_neighbors=4, weights=uniform ..................................\n",
      "[CV] ...... n_neighbors=4, weights=uniform, score=0.969, total=27.3min\n",
      "[CV] n_neighbors=4, weights=uniform ..................................\n",
      "[CV] ...... n_neighbors=4, weights=uniform, score=0.965, total=27.5min\n",
      "[CV] n_neighbors=4, weights=distance .................................\n",
      "[CV] ..... n_neighbors=4, weights=distance, score=0.972, total=27.2min\n",
      "[CV] n_neighbors=4, weights=distance .................................\n",
      "[CV] ..... n_neighbors=4, weights=distance, score=0.972, total=27.2min\n",
      "[CV] n_neighbors=4, weights=distance .................................\n",
      "[CV] ..... n_neighbors=4, weights=distance, score=0.973, total=27.2min\n",
      "[CV] n_neighbors=4, weights=distance .................................\n",
      "[CV] ..... n_neighbors=4, weights=distance, score=0.969, total=27.2min\n",
      "[CV] n_neighbors=6, weights=uniform ..................................\n",
      "[CV] ...... n_neighbors=6, weights=uniform, score=0.966, total=27.2min\n",
      "[CV] n_neighbors=6, weights=uniform ..................................\n",
      "[CV] ...... n_neighbors=6, weights=uniform, score=0.969, total=26.9min\n",
      "[CV] n_neighbors=6, weights=uniform ..................................\n",
      "[CV] ...... n_neighbors=6, weights=uniform, score=0.969, total=26.7min\n",
      "[CV] n_neighbors=6, weights=uniform ..................................\n",
      "[CV] ...... n_neighbors=6, weights=uniform, score=0.966, total=26.7min\n",
      "[CV] n_neighbors=6, weights=distance .................................\n",
      "[CV] ..... n_neighbors=6, weights=distance, score=0.969, total=26.7min\n",
      "[CV] n_neighbors=6, weights=distance .................................\n",
      "[CV] ..... n_neighbors=6, weights=distance, score=0.971, total=27.0min\n",
      "[CV] n_neighbors=6, weights=distance .................................\n",
      "[CV] ..... n_neighbors=6, weights=distance, score=0.972, total=26.8min\n",
      "[CV] n_neighbors=6, weights=distance .................................\n",
      "[CV] ..... n_neighbors=6, weights=distance, score=0.968, total=27.2min\n"
     ]
    },
    {
     "name": "stderr",
     "output_type": "stream",
     "text": [
      "[Parallel(n_jobs=1)]: Done  24 out of  24 | elapsed: 650.0min finished\n"
     ]
    },
    {
     "data": {
      "text/plain": [
       "GridSearchCV(cv=4, estimator=KNeighborsClassifier(),\n",
       "             param_grid=[{'n_neighbors': [3, 4, 6],\n",
       "                          'weights': ['uniform', 'distance']}],\n",
       "             verbose=4)"
      ]
     },
     "execution_count": 145,
     "metadata": {},
     "output_type": "execute_result"
    }
   ],
   "source": [
    "#initialize KNC\n",
    "KN_class = KNeighborsClassifier()\n",
    "\n",
    "#initialize the grid searchc\n",
    "grid_search = GridSearchCV(KN_class, param_grid, cv=4, verbose=4)\n",
    "\n",
    "#conduct grid search\n",
    "grid_search.fit(X_train, y_train)"
   ]
  },
  {
   "cell_type": "code",
   "execution_count": 147,
   "metadata": {},
   "outputs": [
    {
     "data": {
      "text/plain": [
       "{'n_neighbors': 4, 'weights': 'distance'}"
      ]
     },
     "execution_count": 147,
     "metadata": {},
     "output_type": "execute_result"
    }
   ],
   "source": [
    "grid_search.best_params_\n"
   ]
  },
  {
   "cell_type": "code",
   "execution_count": 148,
   "metadata": {},
   "outputs": [
    {
     "data": {
      "text/plain": [
       "0.9715"
      ]
     },
     "execution_count": 148,
     "metadata": {},
     "output_type": "execute_result"
    }
   ],
   "source": [
    "grid_search.best_score_"
   ]
  },
  {
   "cell_type": "code",
   "execution_count": 150,
   "metadata": {},
   "outputs": [
    {
     "data": {
      "text/plain": [
       "{'mean_fit_time': array([57.74091387, 57.61109263, 58.37631387, 57.84005731, 57.29948634,\n",
       "        57.1714257 ]),\n",
       " 'std_fit_time': array([1.26973669, 0.11967821, 1.04817055, 0.38135307, 0.53302921,\n",
       "        0.4505364 ]),\n",
       " 'mean_score_time': array([1563.45021129, 1567.75146478, 1583.36521649, 1575.31003517,\n",
       "        1556.83832496, 1556.74684167]),\n",
       " 'std_score_time': array([17.86075709,  7.04981651,  7.10668071,  1.34396038, 11.09867154,\n",
       "        10.5681492 ]),\n",
       " 'param_n_neighbors': masked_array(data=[3, 3, 4, 4, 6, 6],\n",
       "              mask=[False, False, False, False, False, False],\n",
       "        fill_value='?',\n",
       "             dtype=object),\n",
       " 'param_weights': masked_array(data=['uniform', 'distance', 'uniform', 'distance',\n",
       "                    'uniform', 'distance'],\n",
       "              mask=[False, False, False, False, False, False],\n",
       "        fill_value='?',\n",
       "             dtype=object),\n",
       " 'params': [{'n_neighbors': 3, 'weights': 'uniform'},\n",
       "  {'n_neighbors': 3, 'weights': 'distance'},\n",
       "  {'n_neighbors': 4, 'weights': 'uniform'},\n",
       "  {'n_neighbors': 4, 'weights': 'distance'},\n",
       "  {'n_neighbors': 6, 'weights': 'uniform'},\n",
       "  {'n_neighbors': 6, 'weights': 'distance'}],\n",
       " 'split0_test_score': array([0.96921429, 0.97114286, 0.96757143, 0.97242857, 0.96642857,\n",
       "        0.96921429]),\n",
       " 'split1_test_score': array([0.96907143, 0.97071429, 0.96871429, 0.97157143, 0.96914286,\n",
       "        0.97092857]),\n",
       " 'split2_test_score': array([0.971     , 0.97171429, 0.96864286, 0.97271429, 0.96871429,\n",
       "        0.97207143]),\n",
       " 'split3_test_score': array([0.96764286, 0.96921429, 0.96521429, 0.96928571, 0.96585714,\n",
       "        0.96842857]),\n",
       " 'mean_test_score': array([0.96923214, 0.97069643, 0.96753571, 0.9715    , 0.96753571,\n",
       "        0.97016071]),\n",
       " 'std_test_score': array([0.00119135, 0.00092634, 0.00141466, 0.00134582, 0.00141557,\n",
       "        0.00142623]),\n",
       " 'rank_test_score': array([4, 2, 5, 1, 5, 3])}"
      ]
     },
     "execution_count": 150,
     "metadata": {},
     "output_type": "execute_result"
    }
   ],
   "source": [
    "grid_search.cv_results_"
   ]
  },
  {
   "cell_type": "code",
   "execution_count": 151,
   "metadata": {},
   "outputs": [
    {
     "data": {
      "text/plain": [
       "KNeighborsClassifier(n_neighbors=4, weights='distance')"
      ]
     },
     "execution_count": 151,
     "metadata": {},
     "output_type": "execute_result"
    }
   ],
   "source": [
    "grid_search.best_estimator_"
   ]
  },
  {
   "cell_type": "markdown",
   "metadata": {},
   "source": [
    "# 2. Write a funciton to shift an MNIST image in any direction by one pixel. \n",
    "Create four shifted copies of each image in the dataset.\n",
    "Train my best model on this expanded dateset. \n",
    "Evaluate the model using the test set. \n",
    "This is called data augmentation or training set expansion."
   ]
  },
  {
   "cell_type": "code",
   "execution_count": 14,
   "metadata": {},
   "outputs": [],
   "source": [
    "def show_digit(sample_digit):\n",
    "    plt.imshow(sample_digit.reshape(28,28), cmap='gray')"
   ]
  },
  {
   "cell_type": "code",
   "execution_count": 18,
   "metadata": {},
   "outputs": [
    {
     "data": {
      "image/png": "[encoded data removed]",
      "text/plain": [
       "<Figure size 432x288 with 1 Axes>"
      ]
     },
     "metadata": {
      "needs_background": "light"
     },
     "output_type": "display_data"
    }
   ],
   "source": [
    "dig_samp = X_train[5,:]\n",
    "show_digit(dig_samp)"
   ]
  },
  {
   "cell_type": "code",
   "execution_count": 88,
   "metadata": {},
   "outputs": [],
   "source": [
    "def digit_shifter(curr_digit, shift_dir):\n",
    "    if shift_dir == 'up':\n",
    "        curr_digit = np.concatenate((curr_digit[28::], curr_digit[0:28]))\n",
    "    elif shift_dir == 'down':\n",
    "        curr_digit = np.concatenate((curr_digit[755::], curr_digit[0:755]))\n",
    "    else: \n",
    "        curr_digit = curr_digit.reshape(28,28)\n",
    "        if shift_dir == 'left':\n",
    "            curr_digit = np.column_stack((curr_digit[:,1::], curr_digit[:,0]))\n",
    "        elif shift_dir == 'right':\n",
    "            curr_digit = np.column_stack((curr_digit[:,-1], curr_digit[:,0:-1]))\n",
    "        curr_digit = curr_digit.reshape(28*28)\n",
    "        \n",
    "    return curr_digit"
   ]
  },
  {
   "cell_type": "code",
   "execution_count": 89,
   "metadata": {},
   "outputs": [
    {
     "data": {
      "image/png": "[encoded data removed]",
      "text/plain": [
       "<Figure size 432x288 with 1 Axes>"
      ]
     },
     "metadata": {
      "needs_background": "light"
     },
     "output_type": "display_data"
    }
   ],
   "source": [
    "#test out the function\n",
    "show_digit(digit_shifter(X_train[6,:], 'down'))"
   ]
  },
  {
   "cell_type": "code",
   "execution_count": 65,
   "metadata": {},
   "outputs": [
    {
     "data": {
      "image/png": "[encoded data removed]",
      "text/plain": [
       "<Figure size 432x288 with 1 Axes>"
      ]
     },
     "metadata": {
      "needs_background": "light"
     },
     "output_type": "display_data"
    }
   ],
   "source": [
    "show_digit(X_train[6,:])"
   ]
  },
  {
   "cell_type": "code",
   "execution_count": 158,
   "metadata": {},
   "outputs": [],
   "source": [
    "#split up the digits into a list\n",
    "split_data = np.vsplit(X_train, len(X_train))\n",
    "\n",
    "#use list comprehension to run digit_shifter on each digit for this direction\n",
    "X_train_shift = [digit_shifter(this_digit, 'left') for this_digit in split_data] \\\n",
    "+ [digit_shifter(this_digit, 'right') for this_digit in split_data] \\\n",
    "+ [digit_shifter(this_digit, 'up') for this_digit in split_data] \\\n",
    "+ [digit_shifter(this_digit, 'down') for this_digit in split_data] \n",
    "\n",
    "#convert list of arrays to 2D array\n",
    "X_train_shift = np.vstack(X_train_shift)\n",
    "\n",
    "#create a target array for shifted array \n",
    "y_train_shift = np.concatenate((y_train, y_train, y_train, y_train))"
   ]
  },
  {
   "cell_type": "code",
   "execution_count": 167,
   "metadata": {},
   "outputs": [],
   "source": [
    "from sklearn.utils import shuffle"
   ]
  },
  {
   "cell_type": "code",
   "execution_count": 168,
   "metadata": {},
   "outputs": [
    {
     "data": {
      "text/plain": [
       "KNeighborsClassifier(n_neighbors=4, weights='distance')"
      ]
     },
     "execution_count": 168,
     "metadata": {},
     "output_type": "execute_result"
    }
   ],
   "source": [
    "#shuffle the data and train on the best estimator from gridsearchcv\n",
    "\n",
    "X_train_shift, y_train_shift = shuffle(X_train_shift, y_train_shift, random_state=0)\n",
    "\n",
    "#initialize KNC\n",
    "KNC_shuff = KNeighborsClassifier(n_neighbors=4, weights='distance')\n",
    "\n",
    "#fit the model\n",
    "KNC_shuff.fit(X_train_shift, y_train_shift)"
   ]
  },
  {
   "cell_type": "code",
   "execution_count": 169,
   "metadata": {},
   "outputs": [
    {
     "data": {
      "text/plain": [
       "'              precision    recall  f1-score   support\\n\\n           0       0.99      0.99      0.99      1343\\n           1       0.97      1.00      0.98      1600\\n           2       0.99      0.96      0.97      1380\\n           3       0.98      0.97      0.97      1433\\n           4       0.98      0.97      0.97      1295\\n           5       0.97      0.98      0.97      1273\\n           6       0.99      0.99      0.99      1396\\n           7       0.97      0.98      0.97      1503\\n           8       0.99      0.94      0.97      1357\\n           9       0.95      0.96      0.96      1420\\n\\n    accuracy                           0.98     14000\\n   macro avg       0.98      0.97      0.98     14000\\nweighted avg       0.98      0.98      0.98     14000\\n'"
      ]
     },
     "execution_count": 169,
     "metadata": {},
     "output_type": "execute_result"
    }
   ],
   "source": [
    "#evaluate model\n",
    "from sklearn.metrics import classification_report\n",
    "\n",
    "shuff_preds = KNC_shuff.predict(X_test)\n",
    "\n",
    "classification_report(y_test, shuff_preds)"
   ]
  },
  {
   "cell_type": "code",
   "execution_count": 172,
   "metadata": {},
   "outputs": [],
   "source": [
    "KNC_report = classification_report(y_test, shuff_preds)"
   ]
  },
  {
   "cell_type": "code",
   "execution_count": 178,
   "metadata": {},
   "outputs": [
    {
     "name": "stdout",
     "output_type": "stream",
     "text": [
      "              precision    recall  f1-score   support\n",
      "\n",
      "           0       0.99      0.99      0.99      1343\n",
      "           1       0.97      1.00      0.98      1600\n",
      "           2       0.99      0.96      0.97      1380\n",
      "           3       0.98      0.97      0.97      1433\n",
      "           4       0.98      0.97      0.97      1295\n",
      "           5       0.97      0.98      0.97      1273\n",
      "           6       0.99      0.99      0.99      1396\n",
      "           7       0.97      0.98      0.97      1503\n",
      "           8       0.99      0.94      0.97      1357\n",
      "           9       0.95      0.96      0.96      1420\n",
      "\n",
      "    accuracy                           0.98     14000\n",
      "   macro avg       0.98      0.97      0.98     14000\n",
      "weighted avg       0.98      0.98      0.98     14000\n",
      "\n"
     ]
    }
   ],
   "source": [
    "print(KNC_report)"
   ]
  },
  {
   "cell_type": "markdown",
   "metadata": {},
   "source": [
    "# Exercise 3 Tackle the Titanic dataset"
   ]
  },
  {
   "cell_type": "code",
   "execution_count": null,
   "metadata": {},
   "outputs": [],
   "source": [
    "import os\n",
    "\n",
    "TITANIC_PATH = os.path.join(\"datasets\", \"titanic\")\n",
    "\n",
    "def load_titanic_data(filename, titanic_path=TITANIC_PATH):\n",
    "    csv_path = os.path.join(titanic_path, filename)\n",
    "    return pd.read_csv(csv_path)\n",
    "\n",
    "train_data = load_titanic_data(\"train.csv\")\n",
    "test_data = load_titanic_data(\"test.csv\")"
   ]
  },
  {
   "cell_type": "code",
   "execution_count": null,
   "metadata": {},
   "outputs": [],
   "source": [
    "'C:\\Users\\Jake\\Documents\\ClassStuff\\Python ML class\\Course Repository\\titanic_train.csv'\n",
    "'C:\\Users\\Jake\\Documents\\ClassStuff\\Python ML class\\Course Repository\\titanic_test.csv'"
   ]
  }
 ],
 "metadata": {
  "kernelspec": {
   "display_name": "Python 3",
   "language": "python",
   "name": "python3"
  },
  "language_info": {
   "codemirror_mode": {
    "name": "ipython",
    "version": 3
   },
   "file_extension": ".py",
   "mimetype": "text/x-python",
   "name": "python",
   "nbconvert_exporter": "python",
   "pygments_lexer": "ipython3",
   "version": "3.8.3"
  }
 },
 "nbformat": 4,
 "nbformat_minor": 4
}
