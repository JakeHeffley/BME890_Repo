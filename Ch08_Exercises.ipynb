{
 "cells": [
  {
   "cell_type": "markdown",
   "id": "31f477cc",
   "metadata": {},
   "source": [
    "# Chapter 8 Exercises"
   ]
  },
  {
   "cell_type": "markdown",
   "id": "7aa8b484",
   "metadata": {},
   "source": [
    "1. What are the main motivations for"
   ]
  },
  {
   "cell_type": "markdown",
   "id": "9a3c4b3d",
   "metadata": {},
   "source": []
  },
  {
   "cell_type": "markdown",
   "id": "6e7b1e88",
   "metadata": {},
   "source": []
  },
  {
   "cell_type": "markdown",
   "id": "4c6a87d4",
   "metadata": {},
   "source": []
  }
 ],
 "metadata": {
  "kernelspec": {
   "display_name": "Python 3",
   "language": "python",
   "name": "python3"
  },
  "language_info": {
   "codemirror_mode": {
    "name": "ipython",
    "version": 3
   },
   "file_extension": ".py",
   "mimetype": "text/x-python",
   "name": "python",
   "nbconvert_exporter": "python",
   "pygments_lexer": "ipython3",
   "version": "3.9.5"
  }
 },
 "nbformat": 4,
 "nbformat_minor": 5
}
