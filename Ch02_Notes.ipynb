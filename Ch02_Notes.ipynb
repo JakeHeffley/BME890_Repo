{
 "cells": [
  {
   "cell_type": "markdown",
   "metadata": {},
   "source": [
    "# Chapter 2 Notes  -   ML Check list"
   ]
  },
  {
   "cell_type": "markdown",
   "metadata": {},
   "source": [
    "# Look at the big picture\n",
    " -  What is the ultimate object? Why are we building a model? Who/What is it for?\n",
    " -  Select a performance measure\n",
    " \n",
    "# Get the data\n",
    " -  Setup a workspace with compute resources etc. \n",
    " -  Create a test set\n",
    "     - Scikit-learn has a class called stratifiedShuffleSplit which is useful for making sure you split the test set with representation from one or more important features\n",
    "     \n",
    "## Discover and visualize the data to gain insights\n",
    " -  Exploratory data analysis. \n",
    " -  Lots of visualization\n",
    " -  Look for correlations\n",
    " -  Consider combining features to make them more useful. E.g. Rooms per zipcode / houses per zipcode\n",
    "\n",
    "# Prepare the data for machine learning algorithms\n",
    " -  Clean the data. E.g. deal with NaNs in some instances of some features\n",
    " -  Remove instances, remove a feature, fill in missing values with a summary stat\n",
    " -  Scikit learn has a useful tool called SimpleImputer which for each feature replaces missing values for that feature with a summary stat (median, mean, etc) of that feature. \n",
    " -  Convert text/categorical variables to numerical \n",
    " -  One hot encoding vs ordinal encoding\n",
    " -  Custom transformers - \n",
    " -  Feature scaling - min max vs standardization \n",
    " -  Transformation Pipelines - use the Pipeline class to string together a series of fit_transforms(). \n",
    "     - Name estimator pairs allows tuning hyperparameters\n",
    "     - ColumnTransformer allows you to treat columns differently. E.g. for categorical vs numerical columns\n",
    "\n",
    "# Select a model and train it\n",
    " -  Make sure and only use the test set until you are sure about the model\n",
    " -  MSE for evaluation\n",
    " -  Validation - use train_test_split again to validate test data or use cross-validation with cross_val_score from sklearn.model_selection. Allows you to check for overfitting by comparing the score for the training set vs the validation sets. \n",
    " -  Use pickle module of joblib library to save the models you experiments with as well as the hyperparameters, trained parameters, cross validation score, and predictions\n",
    "\n",
    "# Fine tune your model \n",
    " -  Grid Search -  GridSearchCV uses cross validation to evaluate the specified hyperparameter combos\n",
    "     - Will retrain on the whole test set after it finds the best hyperparameter combo. \n",
    "     -  Best for small numbers of combinations\n",
    "     -  Can call the most effective model using self.best_estimator_\n",
    " -  Randomized Search - RandomizedSearchCv uses random values for hyperparameters over a specified set of iterations. \n",
    " -  Ensemble Methods - combine multiple models to make more accurate predictions\n",
    " -  Analyze the best models and their errors\n",
    "     -  Can your model tell you which features it relies on most? Could drop less useful features\n",
    " -  Evaluate your system on the test set\n",
    "\n",
    "# Present your solution\n",
    "\n",
    "# Launch, monitor, and maintain your system\n",
    " -  Select a service to host your model and allow web/client interface\n",
    " -  Make sure your model does not rot due to stale/old training data\n",
    " -  Create a monitoring system for model updates\n",
    " -  Create an automated way to update the model, evaluate the updated model performance, and lunch updated model. \n",
    " -  Keep backups of all model versions and training set versions so you can roll back"
   ]
  },
  {
   "cell_type": "code",
   "execution_count": null,
   "metadata": {},
   "outputs": [],
   "source": []
  }
 ],
 "metadata": {
  "kernelspec": {
   "display_name": "Python 3",
   "language": "python",
   "name": "python3"
  },
  "language_info": {
   "codemirror_mode": {
    "name": "ipython",
    "version": 3
   },
   "file_extension": ".py",
   "mimetype": "text/x-python",
   "name": "python",
   "nbconvert_exporter": "python",
   "pygments_lexer": "ipython3",
   "version": "3.8.3"
  }
 },
 "nbformat": 4,
 "nbformat_minor": 4
}
