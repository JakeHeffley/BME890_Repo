{
 "cells": [
  {
   "cell_type": "markdown",
   "metadata": {},
   "source": [
    "## Chapter 4 Exercises - Training Models\n"
   ]
  },
  {
   "cell_type": "markdown",
   "metadata": {},
   "source": [
    "1. Which Linear Regression training algorithm can you use if you have a training set with millions of features? \n",
    "    - Gradient descent with lasso regression\n",
    "\n",
    "2. Suppose the features in your training set have very different scales. Which algorithm might suffer from this and how? What can you do about it? \n",
    "    - Gradient descent will be slowed since it will preferentially follow the gradient of the feature with the larger scale first instead of taking a direct route to the minimum. \n",
    "    - feature scaling\n",
    "\n",
    "3. Can Gradient Descent get stuck in a local minimum when training a logistic regression model? \n",
    "    - no, the cost function is convex\n",
    "\n",
    "4. Do all gradient descent algorithms lead to the same model, provided you let them run long enough? \n",
    "    - if the learning rate is too large then an algorithm could fail to converge. \n",
    "    - if there are local minima in the cost function then one GD may get caught in the local minima while another algorithm may succesfully escape it and converge on the global mimimum or a different local minima. \n",
    "    \n",
    "5. Suppose you use batch gradient descent and you plot the validation error at every epoch. If you notice the validation error consistently goes up, what is likely going on? How can you fix this? \n",
    "    - The model is getting over trained. \n",
    "    - Rollback to the model parameters at the minimum value for the validation error\n",
    "    - use a simpler model\n",
    "    - use a regularization technique\n",
    "    - use a larger training set to reach a lower error value before overfitting occurs. \n",
    "    - If the learning rate is too high then the validation and training error will both go up.\n",
    "    \n",
    "6. Is it a good idea to stop mini-batch gradient descent immediately when the validation error goes up? \n",
    "    - no, in mini-batch gd the validation error will have some noise/variance from epoch to epoch. So you need to wait to see that it is consistently rising then roll back to the minimum. \n",
    "    \n",
    "7. Which gradient descent alogrithm discussed will reach the viscinity of the optimal solution the fastest? Which will actually convege? How can you make others converge as well? \n",
    "    - Stochastic gradient descent will reach the right area fastest since it trains the fastest.\n",
    "    - Batch gradient descent will converge on the actual optimal solution eventually\n",
    "    - applying a good learning schedule to modulate the learning rate over the course of training can allow stochastic and mini-batch GD to converge. \n",
    "    \n",
    "8. Suppose you are using polynomial regression. You plot the learning curves and you notice there is a large gap between the training error and the validation error. What is happening? What are three ways to solve this?\n",
    "    - the gap means that the model is performing better on the training data vs the validation data. This means the model is overfitting the to the training data. \n",
    "    - You could use a simpler model such as linear regression or reduce the number of degress in your polynomial regression. \n",
    "    - You could regulate the cost function with ridge regression or lasso. Will reduce complexity by eliminating weights of unimportant features.  \n",
    "    - You could provide a large training dataset to allow the model to train longer before it becomes over fit. \n",
    "    \n",
    "9. Suppose you are using Ridge Regression and you notice that the training error and the validation error are almost equal and fairly high. Would you say that the model suffers from high bias or high variance? Should you increase the regularization hyperparameter alpha or reduce it? \n",
    "    - the model has high bias since it seems to generalize well to the validation data but have poor performance. \n",
    "    - you should reduce alpha to trend more towards variance in the bias variance trade off. This will necessarily increase the variance, but if you manage to reduce the error enough before the variance rises to an unacceptable level then you may fix the problem. \n",
    "    \n",
    "10. Why would you want to use:\n",
    "    - Ridge Regression? Ridge regression will help to reduce the model's variance and generalize better to new data. It prevents overfitting.\n",
    "    - Lasso instead of Ridge Regression? Lasso regression is useful if you suspect that many of your features are not important. Lasso will reduce the weights of unimportant features to zero or near zero. \n",
    "    - Elastic Net instead of Lasso?  If you have more features than instances in your training data then you should use elastic net\n",
    "    \n",
    "11. Suppose you want to classify pictures as outdoor/indoor and daytime/nightime. Should you implement two logistic regression classifiers or one softmax regression classifier? \n",
    "    - Since each picture will have up to two classes represented (daytime and outdoor or nightime and inside in the same pic) you should use two logistic regression classifiers. Although telling night from day indoors seems like it might be impossible any room without windows. \n",
    "    "
   ]
  },
  {
   "cell_type": "markdown",
   "metadata": {},
   "source": [
    "##  12. Implement Batch Gradient Descent with early stopping for softmax regression without using scikitlearn. "
   ]
  },
  {
   "cell_type": "code",
   "execution_count": 20,
   "metadata": {},
   "outputs": [],
   "source": [
    "import numpy as np\n",
    "import scipy as sp\n",
    "import math\n",
    "import matplotlib.pyplot as plt\n",
    "%matplotlib inline"
   ]
  },
  {
   "cell_type": "code",
   "execution_count": 21,
   "metadata": {},
   "outputs": [
    {
     "name": "stdout",
     "output_type": "stream",
     "text": [
      "['data', 'target', 'frame', 'target_names', 'DESCR', 'feature_names', 'filename']\n",
      "(150, 4)\n",
      "(150,)\n"
     ]
    }
   ],
   "source": [
    "from sklearn import datasets\n",
    "iris = datasets.load_iris()\n",
    "print(list(iris.keys()))\n",
    "\n",
    "X = iris[\"data\"]\n",
    "y = iris[\"target\"]\n",
    "print(X.shape)\n",
    "print(y.shape)"
   ]
  },
  {
   "cell_type": "code",
   "execution_count": 22,
   "metadata": {},
   "outputs": [],
   "source": [
    "def unison_shuffled_copies(target, data):\n",
    "    assert len(target) == len(data)\n",
    "    p = np.random.permutation(len(target))\n",
    "    return target[p], data[p,:]"
   ]
  },
  {
   "cell_type": "code",
   "execution_count": 23,
   "metadata": {},
   "outputs": [],
   "source": [
    "def train_val_test_split(in_data, val_precent, test_percent):\n",
    "    #in_data is the data to be split into training test and validation sets. 2D array\n",
    "    #val_precent is the percentage (0:1) of the data to use for validation. scaler value\n",
    "    \n",
    "    val_n = int(np.round(in_data.shape[0] * val_percent))\n",
    "    test_n = int(np.round(in_data.shape[0] * test_percent))\n",
    "    train_n = int(in_data.shape[0] - (test_n + val_n))\n",
    "    \n",
    "    if in_data.ndim == 2:\n",
    "        train_data = in_data[:train_n,:]\n",
    "        val_data = in_data[np.arange(train_n,(train_n+val_n)),:]\n",
    "        test_data = in_data[(train_n+val_n)::,:]\n",
    "    elif in_data.ndim == 1:\n",
    "        train_data = in_data[:train_n]\n",
    "        val_data = in_data[np.arange(train_n,(train_n+val_n))]\n",
    "        test_data = in_data[(train_n+val_n)::]\n",
    "    \n",
    "    return train_data, val_data, test_data\n",
    "    "
   ]
  },
  {
   "cell_type": "code",
   "execution_count": 24,
   "metadata": {},
   "outputs": [],
   "source": [
    "def one_hot_func(target, n_classes):\n",
    "    \n",
    "    #make a zero array of size (samples by classes)\n",
    "    one_hot_target = np.zeros((len(target), n_classes))\n",
    "    #populate the array with one value per sample \n",
    "    one_hot_target[[range(0,len(target))],[target]] = 1\n",
    "    \n",
    "    return one_hot_target"
   ]
  },
  {
   "cell_type": "code",
   "execution_count": 36,
   "metadata": {},
   "outputs": [],
   "source": [
    "#calculate the model predictions and class probability for each instance\n",
    "def softmax_predict(theta, X):\n",
    "    # X is instance by features   \n",
    "    #theta is  features by classes\n",
    "    #class_score is instance by classes\n",
    "    #prob_of_k  size instances x classes\n",
    "    #model_preds len = # instances\n",
    "\n",
    "    #claclulate the score for each instance for each class using current model\n",
    "    class_score = X.dot(theta)\n",
    "    \n",
    "    #find the model's class prediction for each instance\n",
    "    model_preds = np.argmax(class_score, axis=1)\n",
    "    \n",
    "    #use softmax function to estimate probability that each instance belongs to class k\n",
    "    #class_score -= class_score.max()\n",
    "    class_exps = np.exp(class_score)\n",
    "    prob_of_k = class_exps / np.sum(class_exps, axis=1)[:,None]\n",
    "        \n",
    "    return model_preds, prob_of_k"
   ]
  },
  {
   "cell_type": "code",
   "execution_count": null,
   "metadata": {},
   "outputs": [],
   "source": []
  },
  {
   "cell_type": "code",
   "execution_count": null,
   "metadata": {},
   "outputs": [],
   "source": []
  },
  {
   "cell_type": "code",
   "execution_count": 26,
   "metadata": {},
   "outputs": [],
   "source": [
    "#preprocessing\n",
    "\n",
    "if 'iris' in locals():\n",
    "    #feature scaling (iris) \n",
    "    X_scaled = (X-X.mean(axis=0)) / X.std(axis=0)\n",
    "elif 'mnist' in locals():\n",
    "    #normalize (mnist)\n",
    "    X_scaled = X / np.max(X)\n",
    "\n",
    "#sample shuffle\n",
    "y, X_scaled = unison_shuffled_copies(y, X_scaled)\n",
    "\n",
    "#add in the bias term\n",
    "X_scaled = np.c_[np.ones([len(X_scaled), 1]), X_scaled]\n",
    "\n",
    "#make a one-hot target array\n",
    "n_classes = len(np.unique(y))\n",
    "y_oh = one_hot_func(y, n_classes)\n",
    "\n",
    "#train/validation split\n",
    "val_percent = 0.2\n",
    "test_percent = 0.2\n",
    "X_train, X_val, X_test = train_val_test_split(X_scaled, val_percent, test_percent)\n",
    "y_train, y_val, X_test = train_val_test_split(y, val_percent, test_percent)\n",
    "y_train_oh, y_val_oh, X_test_oh = train_val_test_split(y_oh, val_percent, test_percent)\n"
   ]
  },
  {
   "cell_type": "code",
   "execution_count": 14,
   "metadata": {},
   "outputs": [],
   "source": []
  },
  {
   "cell_type": "code",
   "execution_count": null,
   "metadata": {},
   "outputs": [],
   "source": []
  },
  {
   "cell_type": "code",
   "execution_count": 16,
   "metadata": {},
   "outputs": [],
   "source": []
  },
  {
   "cell_type": "code",
   "execution_count": 37,
   "metadata": {},
   "outputs": [],
   "source": [
    "eta = 0.1 #learning rate\n",
    "epsilon = 1e-7\n",
    "n_iterations = 50000\n",
    "m_train = len(y_train)\n",
    "m_val = len(y_val)\n",
    "min_val_loss = float(\"inf\")\n",
    "best_epoc = None\n",
    "best_model = None\n",
    "\n",
    "n_features = X_train.shape[1]\n",
    "k_classes = len(np.unique(y))\n",
    "theta = np.random.rand(n_features,k_classes) # need one of these for each class\n",
    "xentr_val = np.array([])\n",
    "xentr_train = np.array([])\n"
   ]
  },
  {
   "cell_type": "code",
   "execution_count": 42,
   "metadata": {},
   "outputs": [
    {
     "data": {
      "text/plain": [
       "10"
      ]
     },
     "execution_count": 42,
     "metadata": {},
     "output_type": "execute_result"
    }
   ],
   "source": [
    "5+ \\\n",
    "5"
   ]
  },
  {
   "cell_type": "code",
   "execution_count": 39,
   "metadata": {},
   "outputs": [
    {
     "name": "stdout",
     "output_type": "stream",
     "text": [
      "iteration: 0 training error: 0.9652277278271285\n",
      "iteration: 500 training error: 0.22450999159652116\n",
      "iteration: 1000 training error: 0.18321903963368122\n",
      "iteration: 1500 training error: 0.16647837776271804\n",
      "iteration: 2000 training error: 0.15748098675316435\n",
      "iteration: 2500 training error: 0.15187180301366243\n",
      "iteration: 3000 training error: 0.14804187900348087\n",
      "iteration: 3500 training error: 0.14526171960655287\n",
      "iteration: 4000 training error: 0.14315321762794114\n",
      "iteration: 4500 training error: 0.14150097032370756\n",
      "iteration: 5000 training error: 0.14017331137945885\n",
      "iteration: 5500 training error: 0.13908524160512625\n",
      "iteration: 6000 training error: 0.13817943941567218\n",
      "iteration: 6500 training error: 0.1374158400864483\n",
      "iteration: 7000 training error: 0.13676558990781268\n",
      "iteration: 7500 training error: 0.13620737348987924\n",
      "iteration: 8000 training error: 0.13572509478342965\n",
      "iteration: 8500 training error: 0.13530636379346395\n",
      "iteration: 9000 training error: 0.13494148056064656\n",
      "iteration: 9500 training error: 0.13462273586072648\n",
      "iteration: 10000 training error: 0.13434391925311134\n",
      "iteration: 10500 training error: 0.13409996621195622\n",
      "iteration: 11000 training error: 0.1338867005840239\n",
      "iteration: 11500 training error: 0.13370064365790216\n",
      "iteration: 12000 training error: 0.1335388705963759\n",
      "iteration: 12500 training error: 0.13339890108100702\n",
      "iteration: 13000 training error: 0.13327861502681837\n",
      "iteration: 13500 training error: 0.1331761869107854\n",
      "iteration: 14000 training error: 0.13309003408822928\n",
      "iteration: 14500 training error: 0.13301877573844742\n",
      "iteration: 15000 training error: 0.1329611999709448\n",
      "iteration: 15500 training error: 0.13291623725717047\n",
      "iteration: 16000 training error: 0.13288293880917762\n",
      "iteration: 16500 training error: 0.13286045885938313\n",
      "iteration: 17000 training error: 0.1328480400407777\n",
      "minimum validation error reached on iteration: 17419\n"
     ]
    }
   ],
   "source": [
    "for iteration in range(n_iterations): \n",
    "     \n",
    "    #get probabilities for each class and predictions of the model\n",
    "    model_preds, prob_of_k = softmax_predict(theta, X_train)\n",
    "    model_preds_val, prob_of_k_val = softmax_predict(theta, X_val)\n",
    "    \n",
    "    #calculate errors to evaluate early stopping\n",
    "    cross_entr_train = -(1/m_train) * np.sum(y_train_oh*(np.log(prob_of_k)))\n",
    "    cross_entr_val = -(1/m_val) * np.sum(y_val_oh*(np.log(prob_of_k_val)))\n",
    "    xentr_train = np.append(xentr_train, cross_entr_train)\n",
    "    xentr_val = np.append(xentr_val, cross_entr_val)\n",
    "    \n",
    "    #evaluate model performance and continue or stop training \n",
    "    if min_val_loss > cross_entr_val:\n",
    "        min_val_loss = cross_entr_val\n",
    "        best_epoc = iteration\n",
    "        best_model = theta\n",
    "        \n",
    "    #Early Stopping\n",
    "    if cross_entr_val > min_val_loss:\n",
    "        print('minimum validation error reached on iteration: ' + str(iteration))\n",
    "        break\n",
    "    \n",
    "    #calculate the gradient veector for each class (gradient array)\n",
    "    gradients = (1/m_train) * X_train.T.dot(prob_of_k - y_train_oh) #features by class\n",
    "    \n",
    "    #update the model\n",
    "    theta = theta - eta*gradients\n",
    "    \n",
    "    #reporting\n",
    "    if iteration % 500 == 0:\n",
    "        print('iteration: ' + str(iteration) + ' training error: ' + str(cross_entr_val))\n",
    "    elif iteration == n_iterations-1:\n",
    "        print('done')\n"
   ]
  },
  {
   "cell_type": "code",
   "execution_count": 40,
   "metadata": {},
   "outputs": [
    {
     "data": {
      "image/png": "[encoded data removed]",
      "text/plain": [
       "<Figure size 1080x576 with 1 Axes>"
      ]
     },
     "metadata": {
      "needs_background": "light"
     },
     "output_type": "display_data"
    }
   ],
   "source": [
    "fig = plt.figure(figsize=(15,8))\n",
    "plt.plot(range(0, len(xentr_train)), xentr_train, color='r', label='training')\n",
    "plt.plot(range(0, len(xentr_val)), xentr_val, color='b', label='validation')\n",
    "plt.title('iris data softmax classifier')\n",
    "plt.ylabel('Cross Entropy')\n",
    "plt.xlabel('iteration')\n",
    "plt.legend()\n",
    "plt.show()\n"
   ]
  },
  {
   "cell_type": "code",
   "execution_count": null,
   "metadata": {},
   "outputs": [],
   "source": []
  },
  {
   "cell_type": "code",
   "execution_count": null,
   "metadata": {},
   "outputs": [],
   "source": []
  },
  {
   "cell_type": "code",
   "execution_count": null,
   "metadata": {},
   "outputs": [],
   "source": []
  },
  {
   "cell_type": "code",
   "execution_count": null,
   "metadata": {},
   "outputs": [],
   "source": []
  },
  {
   "cell_type": "code",
   "execution_count": null,
   "metadata": {},
   "outputs": [],
   "source": []
  },
  {
   "cell_type": "code",
   "execution_count": null,
   "metadata": {},
   "outputs": [],
   "source": []
  },
  {
   "cell_type": "code",
   "execution_count": null,
   "metadata": {},
   "outputs": [],
   "source": []
  },
  {
   "cell_type": "code",
   "execution_count": null,
   "metadata": {},
   "outputs": [],
   "source": []
  },
  {
   "cell_type": "code",
   "execution_count": null,
   "metadata": {},
   "outputs": [],
   "source": []
  },
  {
   "cell_type": "code",
   "execution_count": null,
   "metadata": {},
   "outputs": [],
   "source": []
  },
  {
   "cell_type": "code",
   "execution_count": null,
   "metadata": {},
   "outputs": [],
   "source": []
  },
  {
   "cell_type": "code",
   "execution_count": null,
   "metadata": {},
   "outputs": [],
   "source": []
  }
 ],
 "metadata": {
  "kernelspec": {
   "display_name": "Python 3",
   "language": "python",
   "name": "python3"
  },
  "language_info": {
   "codemirror_mode": {
    "name": "ipython",
    "version": 3
   },
   "file_extension": ".py",
   "mimetype": "text/x-python",
   "name": "python",
   "nbconvert_exporter": "python",
   "pygments_lexer": "ipython3",
   "version": "3.8.3"
  }
 },
 "nbformat": 4,
 "nbformat_minor": 4
}
