{
 "cells": [
  {
   "cell_type": "markdown",
   "metadata": {},
   "source": [
    "# Chapter 3 Notes - Classification\n",
    " -  This chapter largely focuses on the MNIST dataset"
   ]
  },
  {
   "cell_type": "markdown",
   "metadata": {},
   "source": [
    "# Training a binary classifier\n",
    " - Is this a 5 or not \n",
    " - SGD - stochastic Gradient Descent Classifier- handles instances independently, one at a time. Efficient with large datasets and online learning. "
   ]
  },
  {
   "cell_type": "markdown",
   "metadata": {},
   "source": [
    "# Performance measures \n",
    " - Measuring accuracy using cross validation\n",
    "    - Used cross Val score to show the classifier has an accuracy of 93% when predicting 5s. But the dataset is skewed so accuracy is not a helpful metric. \n",
    "    - You could use stratifiedKFold to make your own version of cross_val_score\n",
    "    - cross_val_score will show how well the model generalizes to new data\n",
    "    - cross_val_predict does the same thing but returns predictions instead of evaluation scores. Useful for the confusion matrix. \n",
    " - Confusion matrix\n",
    "    - Precision = TP/(TP+FP)\n",
    "    - Recall = TP/(TP+FN)\n",
    " - Precision and Recall\n",
    "    - SGDC only has 73% precision and 76% recall\n",
    "    - F1 score. Harmonic mean of precision and recall. Penalizes for any low value. 2*(P*R)/(P+R)\n",
    "    - There is an inherent trade off in precision and recall. \n",
    " - Precision Recall Trade-off\n",
    "    - Sgd has a decision function you can call to show how much the algorithm thinks the current case is or is not a 5\n",
    "    - Messing with the threshold is a P/R trade-off \n",
    "    - Sklean.metrics has a precision_recall_curve function which will plot the trade off if you input the targets (y) and the scores\n",
    "    - Another useful option is to simply plot precision vs recall\n",
    "    - ROC Curve - Receiver Operating Charateristic - plot the True positive rate vs the false positive rate\n",
    "    - AUC under the ROC - perfect classifier =1. Random =0.5\n",
    "    - PR curve is better than the ROC curve when the positive class is rare or when false positives are very damaging. "
   ]
  },
  {
   "cell_type": "markdown",
   "metadata": {},
   "source": [
    "# Multi-Class Classification\n",
    " - OvR Strategy - One vs the Rest - train a classifier to identify a given class vs all other classes\n",
    " - OvO Strategy - One vs One - train a classifier for every possible combination of classes. \n",
    " - If you call a binary classifier like SVC on a multiclass dataset then sklearn will automatically use a OVO or OVR strategy. \n"
   ]
  },
  {
   "cell_type": "markdown",
   "metadata": {},
   "source": [
    "# Error Analysis\n",
    " - They plotted the confusion matrix then filled the diagonals to highlight the error rates elsewhere in the matrix. Helps to identify which features the model struggles to classify. \n",
    "    - Doing this showed that the algorithm often falsely labeled digits as 8 but did a good job labelling 8s as 8 and not anything else\n",
    "    - Also showed that 3s and 5s are mixed up often. \n",
    " - Plotted examples of correctly labeled 3s and 5s as well as 3s and 5s labelled as each other \n"
   ]
  },
  {
   "cell_type": "markdown",
   "metadata": {},
   "source": [
    "# Multi-label Classification System \n",
    " - Can tell if one or more of multiple classes are in an instance. \n",
    "    - E.g. KNeighborsClassifier\n",
    "     - For a given instance (the digit 5) determine if it is large (>=7) and/or odd. \n",
    "    - Algorithm return (False, True)\n",
    " - Can use the average or weighted average of the F1 score to evaluate performance"
   ]
  },
  {
   "cell_type": "markdown",
   "metadata": {},
   "source": [
    "# Multi-output Classifier\n",
    " - Each label can be multiclass (has multiple values)\n",
    " - This seems a lot like regression\n"
   ]
  }
 ],
 "metadata": {
  "kernelspec": {
   "display_name": "Python 3",
   "language": "python",
   "name": "python3"
  },
  "language_info": {
   "codemirror_mode": {
    "name": "ipython",
    "version": 3
   },
   "file_extension": ".py",
   "mimetype": "text/x-python",
   "name": "python",
   "nbconvert_exporter": "python",
   "pygments_lexer": "ipython3",
   "version": "3.8.3"
  }
 },
 "nbformat": 4,
 "nbformat_minor": 4
}
