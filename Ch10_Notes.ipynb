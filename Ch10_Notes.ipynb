{
 "cells": [
  {
   "cell_type": "markdown",
   "id": "b93f37ed",
   "metadata": {},
   "source": [
    "# Chapter 10 Notes: Introduction to Artificial Neural Networks with Keras"
   ]
  },
  {
   "cell_type": "markdown",
   "id": "a79fb34d",
   "metadata": {},
   "source": [
    "# From Biological to Artificial Neurons\n",
    " - McCulloch Pitts 1943 computational paper\n",
    "## Logical Computatiosn with Neurons\n",
    " - Uses artificial binary neurons\n",
    " - Can perform basic logic functions like AND, OR, =, OR NOT \n",
    " - Cannot do XOR\n",
    "## The Perceptron \n",
    " - Frank Rosenblatt 1957\n",
    " - Threshold Logic Units (TLU) make up the perceptron\n",
    " - inputs and outputs are scalars\n",
    " - each input is associated with a weight\n",
    " - each TLU computes a weighted sum of its inputs\n",
    "    - z = $w_1x_1$ + $w_2x_2$ ... = **$x^T$w**\n",
    " - Then the TLU applies a step function to the result and outputs the result\n",
    "    - $h_w$(**x**) = step(z) where z = **$x^T$w**\n",
    " - Types of step functions for Preceptrons:\n",
    "    - Heaviside Step Function - 0 until z > 0, then 1\n",
    "    - Sign Step Function - -1 for z < 0,  0 for z=0, 1 for z>0\n",
    " - A single TLU can perform linear binary classification. \n",
    " - A perceptron is merely a single layer of TLUs and an input layer \n",
    " - The input layer also contains a bias neuron which always outputs 1\n",
    " - Perceptrons can do multi-class classification\n",
    " - Computing the outputs of a fully connected perceptron layer:\n",
    "    - $h_{W,b}$ = $\\phi$(**XW** + **b**)\n",
    "    - **X**  # instances by # features\n",
    "    - **W** wieght matrix, # input neurons by # artificial neurons (TLUs) \n",
    "    - **b** bias vector contains weights between bias neuron and all the TLUs. len= # TLUs\n",
    "    - $\\phi$ activation function \n",
    " - Learning Rule: reinforces the connections which help reduce the error\n",
    " - $w_{i,j}^{(next Step)}$ = w$_{i,j}$ + $\\eta$($y_j$ - $\\hat{y}_j$)$x_i$\n",
    "     - $x_i$ ith input value for this instance\n",
    "     - $\\hat{y}_j$ out put of jth output neuron for this instance\n",
    "     - $y_j$ tartget output for jth neuron for this instance\n",
    "     - $\\eta$ learning rate\n",
    " - Only works for linear problems\n",
    " - Perceptrons do not output a class probability\n",
    " - Perceptrons cannot perform XOR operations\n",
    " - MLP - Multi-Layer Perceptrons can do XOR and other thins"
   ]
  },
  {
   "cell_type": "code",
   "execution_count": 11,
   "id": "42aaacbb",
   "metadata": {},
   "outputs": [
    {
     "name": "stderr",
     "output_type": "stream",
     "text": [
      "<ipython-input-11-b25aeda76ff5>:7: DeprecationWarning: `np.int` is a deprecated alias for the builtin `int`. To silence this warning, use `int` by itself. Doing this will not modify any behavior and is safe. When replacing `np.int`, you may wish to use e.g. `np.int64` or `np.int32` to specify the precision. If you wish to review your current use, check the release note link for additional information.\n",
      "Deprecated in NumPy 1.20; for more details and guidance: https://numpy.org/devdocs/release/1.20.0-notes.html#deprecations\n",
      "  y = (iris.target == 0).astype(np.int) #1 for setosas\n"
     ]
    },
    {
     "data": {
      "text/plain": [
       "dict_keys(['data', 'target', 'frame', 'target_names', 'DESCR', 'feature_names', 'filename'])"
      ]
     },
     "execution_count": 11,
     "metadata": {},
     "output_type": "execute_result"
    }
   ],
   "source": [
    "import numpy as np \n",
    "from sklearn.datasets import load_iris\n",
    "from sklearn.linear_model import Perceptron\n",
    "\n",
    "iris = load_iris()\n",
    "X = iris.data[:,(2,3)] #length/width of petal \n",
    "y = (iris.target == 0).astype(np.int) #1 for setosas\n",
    "\n",
    "iris.keys()"
   ]
  },
  {
   "cell_type": "code",
   "execution_count": 12,
   "id": "0751a3f6",
   "metadata": {},
   "outputs": [
    {
     "name": "stdout",
     "output_type": "stream",
     "text": [
      "[0]\n"
     ]
    }
   ],
   "source": [
    "per_clf = Perceptron()\n",
    "per_clf.fit(X,y)\n",
    "y_pred = per_clf.predict([[2, 0.5]])\n",
    "print(y_pred)"
   ]
  },
  {
   "cell_type": "markdown",
   "id": "31e74175",
   "metadata": {},
   "source": [
    " ## The Multilayer Perceptron and Backpropagation\n",
    "- MLPs are composed of an input layer, 1 or more hidden layers, and an output layer.\n",
    "    - there is a bias TLU in each layer. This bias unit receives no input from previous layer.\n",
    "- the input layer consists of pass through units and the other layers are TLUs\n",
    "- Rumelhart, Hinton, and Williams 1986 introduced backpropagation\n",
    "- **Backpropagation** - computes the gradient with respect to every single model parameter and for all the layers. Accomplishes this in two passes through the network. Finds how to tweak the weights in order to reduce the error. \n",
    "    - handles instances in minibatches (e.g. 32 instances)\n",
    "    - an epoch is a single cycle through the whole dataset\n",
    "    - On the *forward pass* the instances are passed through the network and all the intermediate outputs are saved. \n",
    "    - error is measured by using a loss function which compares the actual output vs the desired output\n",
    "    - the chain rule is used to determine how much each output contributed to the error\n",
    "    - the algorithm works backwards, determining how much of these error contributions came from each connection in the next lower layer. It propagates the error gradient backwards through the network. \n",
    "    - gradient descent performed by tweaking all connections in the network using the error gradients just computed. \n",
    "- Step function is replaced by a sigmoid function so there is a gradient to follow. $\\sigma$ = $\\frac{1}{1 + e^{-z}}$\n",
    "    - this is an activation function like the hyperbolic tangent function or Rectified linear unit\n",
    "- non-linear activation functions allow the MLP to approximate non-linear continuous functions. \n",
    "\n",
    "## Regression MLPs\n",
    "- you need one output neuron per value you are trying to predict.\n",
    "    - home value: 1 neuron, size of a rectangle: 2 neurons\n",
    "- Usually you do not use an activation function for the output neurons. \n",
    "    - certain activation functions can bound the outputs within useful ranges\n",
    "- MSE is the typical loss funciton\n",
    "    - $\\frac{1}{n}$$\\sum\\limits_{i=1}^{n}$(y-$\\hat{y}$)$^2$\n",
    "\n",
    "## Classification MLPs\n",
    "- can output the estimated probability for binary classification with a single output neuron\n",
    "- You need one output neuron per class you are predicting\n",
    "    - Softmax activation funciton will ensure all the outputs sum to one. This is useful for exclusive multiclass classification\n",
    "    - cross entropy loss function is useful here"
   ]
  },
  {
   "cell_type": "markdown",
   "id": "d311a53c",
   "metadata": {},
   "source": [
    "# Implementing MLPs with Keras\n",
    "- released in 2015\n",
    "- relies on computation backend (TF, CNTK, theano)\n",
    "- tensorflow has its own version of keras included. tf.keras\n",
    "## Installing TensorFlow 2"
   ]
  },
  {
   "cell_type": "code",
   "execution_count": 1,
   "id": "25d1b556",
   "metadata": {
    "scrolled": true
   },
   "outputs": [
    {
     "data": {
      "text/plain": [
       "'2.8.0'"
      ]
     },
     "execution_count": 1,
     "metadata": {},
     "output_type": "execute_result"
    }
   ],
   "source": [
    "import tensorflow as tf\n",
    "from tensorflow import keras\n",
    "keras.__version__"
   ]
  },
  {
   "cell_type": "code",
   "execution_count": 2,
   "id": "2481be24",
   "metadata": {},
   "outputs": [
    {
     "data": {
      "text/plain": [
       "'2.8.0-dev20211217'"
      ]
     },
     "execution_count": 2,
     "metadata": {},
     "output_type": "execute_result"
    }
   ],
   "source": [
    "tf.__version__"
   ]
  },
  {
   "cell_type": "markdown",
   "id": "80a3000f",
   "metadata": {},
   "source": [
    "## Building an Image Classifier\n",
    "- Using fashion MNIST\n",
    "### Using keras to Load the Dataset\n",
    "- data represented as 28x28 arrays"
   ]
  },
  {
   "cell_type": "code",
   "execution_count": 3,
   "id": "307c1171",
   "metadata": {},
   "outputs": [],
   "source": [
    "fashion_mnist = keras.datasets.fashion_mnist\n",
    "(X_train_full, y_train_full), (X_test_full, y_test_full) = fashion_mnist.load_data()"
   ]
  },
  {
   "cell_type": "code",
   "execution_count": 4,
   "id": "181eb5b0",
   "metadata": {},
   "outputs": [
    {
     "data": {
      "text/plain": [
       "(60000, 28, 28)"
      ]
     },
     "execution_count": 4,
     "metadata": {},
     "output_type": "execute_result"
    }
   ],
   "source": [
    "X_train_full.shape"
   ]
  },
  {
   "cell_type": "code",
   "execution_count": 5,
   "id": "62875aae",
   "metadata": {},
   "outputs": [
    {
     "data": {
      "text/plain": [
       "dtype('uint8')"
      ]
     },
     "execution_count": 5,
     "metadata": {},
     "output_type": "execute_result"
    }
   ],
   "source": [
    "X_train_full.dtype"
   ]
  },
  {
   "cell_type": "code",
   "execution_count": 6,
   "id": "73d08719",
   "metadata": {},
   "outputs": [
    {
     "name": "stdout",
     "output_type": "stream",
     "text": [
      "255\n",
      "0\n"
     ]
    }
   ],
   "source": [
    "import numpy as np\n",
    "print(np.max(X_train_full))\n",
    "print(np.min(X_train_full))"
   ]
  },
  {
   "cell_type": "code",
   "execution_count": 7,
   "id": "1cae66a7",
   "metadata": {},
   "outputs": [],
   "source": [
    "#split and scale the data (0 to 1)\n",
    "#data already shuffled\n",
    "X_valid, X_train = X_train_full[:5000]/255.0, X_train_full[5000:]/255.0\n",
    "y_valid, y_train = y_train_full[:5000], y_train_full[5000:]"
   ]
  },
  {
   "cell_type": "code",
   "execution_count": 8,
   "id": "70ae3a48",
   "metadata": {},
   "outputs": [
    {
     "data": {
      "text/plain": [
       "['Coat',\n",
       " 'T-shirt/top',\n",
       " 'Sneaker',\n",
       " 'Ankle boot',\n",
       " 'Ankle boot',\n",
       " 'Ankle boot',\n",
       " 'Coat',\n",
       " 'Coat',\n",
       " 'Dress',\n",
       " 'Coat']"
      ]
     },
     "execution_count": 8,
     "metadata": {},
     "output_type": "execute_result"
    }
   ],
   "source": [
    "class_names = [\"T-shirt/top\", \"Trouser\", \"Pullover\", \"Dress\", \"Coat\",\n",
    "\"Sandal\", \"Shirt\", \"Sneaker\", \"Bag\", \"Ankle boot\"]\n",
    "[class_names[int(this_item)] for this_item in y_train[0:10]]"
   ]
  },
  {
   "cell_type": "markdown",
   "id": "820d25ac",
   "metadata": {},
   "source": [
    "### Creating the model Using the Sequential API\n",
    "- sequential api is the simplest form of nn single stack of layers\n",
    "- add an input layer, preprocesses the data, reshaping the data to be 1D\n",
    "- add a dense layer with relu. Also manages the bias term for each neuron\n",
    "- add another layer, 100 neurons \n",
    "- add output layer, classes are exlusive \n",
    "- alternative syntax is to pass a list of layers when initializing the model\n",
    "\n",
    "- dense layers produce a lot of parameters \n",
    "- more parameters introduces risk of overfitting"
   ]
  },
  {
   "cell_type": "code",
   "execution_count": 9,
   "id": "9cc5d319",
   "metadata": {},
   "outputs": [],
   "source": [
    "#initialize and build the model\n",
    "model = keras.models.Sequential()\n",
    "model.add(keras.layers.Flatten(input_shape=[28,28]))\n",
    "model.add(keras.layers.Dense(300, activation='relu'))\n",
    "model.add(keras.layers.Dense(100, activation='relu'))\n",
    "model.add(keras.layers.Dense(10, activation='softmax'))"
   ]
  },
  {
   "cell_type": "code",
   "execution_count": 10,
   "id": "6b862fe5",
   "metadata": {},
   "outputs": [
    {
     "name": "stdout",
     "output_type": "stream",
     "text": [
      "Model: \"sequential\"\n",
      "_________________________________________________________________\n",
      " Layer (type)                Output Shape              Param #   \n",
      "=================================================================\n",
      " flatten (Flatten)           (None, 784)               0         \n",
      "                                                                 \n",
      " dense (Dense)               (None, 300)               235500    \n",
      "                                                                 \n",
      " dense_1 (Dense)             (None, 100)               30100     \n",
      "                                                                 \n",
      " dense_2 (Dense)             (None, 10)                1010      \n",
      "                                                                 \n",
      "=================================================================\n",
      "Total params: 266,610\n",
      "Trainable params: 266,610\n",
      "Non-trainable params: 0\n",
      "_________________________________________________________________\n"
     ]
    }
   ],
   "source": [
    "model.summary()"
   ]
  },
  {
   "cell_type": "code",
   "execution_count": 11,
   "id": "1592768b",
   "metadata": {},
   "outputs": [
    {
     "data": {
      "text/plain": [
       "[<keras.layers.core.flatten.Flatten at 0x1492c8d1c40>,\n",
       " <keras.layers.core.dense.Dense at 0x1492c8d1bb0>,\n",
       " <keras.layers.core.dense.Dense at 0x1492c8eff40>,\n",
       " <keras.layers.core.dense.Dense at 0x1494f86ed00>]"
      ]
     },
     "execution_count": 11,
     "metadata": {},
     "output_type": "execute_result"
    }
   ],
   "source": [
    "model.layers"
   ]
  },
  {
   "cell_type": "code",
   "execution_count": 12,
   "id": "c280f14a",
   "metadata": {},
   "outputs": [
    {
     "data": {
      "text/plain": [
       "'dense'"
      ]
     },
     "execution_count": 12,
     "metadata": {},
     "output_type": "execute_result"
    }
   ],
   "source": [
    "model.layers[1].name"
   ]
  },
  {
   "cell_type": "code",
   "execution_count": 13,
   "id": "4e3d9e9f",
   "metadata": {},
   "outputs": [],
   "source": [
    "weights, biases = model.layers[1].get_weights()"
   ]
  },
  {
   "cell_type": "code",
   "execution_count": 14,
   "id": "62601c22",
   "metadata": {},
   "outputs": [
    {
     "data": {
      "text/plain": [
       "(784, 300)"
      ]
     },
     "execution_count": 14,
     "metadata": {},
     "output_type": "execute_result"
    }
   ],
   "source": [
    "weights.shape"
   ]
  },
  {
   "cell_type": "code",
   "execution_count": 15,
   "id": "d8cc3697",
   "metadata": {},
   "outputs": [
    {
     "data": {
      "text/plain": [
       "(300,)"
      ]
     },
     "execution_count": 15,
     "metadata": {},
     "output_type": "execute_result"
    }
   ],
   "source": [
    "biases.shape"
   ]
  },
  {
   "cell_type": "code",
   "execution_count": 32,
   "id": "d6703c1d",
   "metadata": {},
   "outputs": [],
   "source": [
    "#can use kernel_initializer to alter initialization parameters "
   ]
  },
  {
   "cell_type": "markdown",
   "id": "4a1f39b6",
   "metadata": {},
   "source": [
    "### Compiling the model\n",
    "- The compile() method specificies the loss function and optimizer to be used. \n",
    "- the model uses exlusive categorical classification with a sparse encoding (0-9 indeces instead of one-hot encoding classes). Therefore it will use sparse_categorical_crossentropy for the loss function. \n",
    "- since the model is a classifier, we will be looking at accuracy during evaluation"
   ]
  },
  {
   "cell_type": "code",
   "execution_count": 16,
   "id": "5a3480dd",
   "metadata": {},
   "outputs": [],
   "source": [
    "model.compile(loss='sparse_categorical_crossentropy',\n",
    "             optimizer='sgd',\n",
    "             metrics=['accuracy'])"
   ]
  },
  {
   "cell_type": "markdown",
   "id": "22afbed7",
   "metadata": {},
   "source": [
    "### Training and evaluating the model\n",
    "- will use the fit() method\n",
    "- will pass the optional validation dataset argument and keras will calculate loss at the end of each epoch. (useful to check for overfitting)\n",
    "    - an alternate option is to set validation_split to a scaler of the fraction of the data to be used as a validation set. \n",
    "- the class_weight argument can account for some classes being over or underrepresented. Modifies the loss function. \n",
    "- the history object contains some useful resources\n",
    "    - parameters used\n",
    "    - list of epochs\n",
    "    - dictionary of loss and extra metrics (history.history)"
   ]
  },
  {
   "cell_type": "code",
   "execution_count": 18,
   "id": "23d788d5",
   "metadata": {},
   "outputs": [
    {
     "name": "stdout",
     "output_type": "stream",
     "text": [
      "Epoch 1/30\n",
      "1719/1719 [==============================] - 2s 1ms/step - loss: 0.7127 - accuracy: 0.7695 - val_loss: 0.5125 - val_accuracy: 0.8198\n",
      "Epoch 2/30\n",
      "1719/1719 [==============================] - 2s 952us/step - loss: 0.4831 - accuracy: 0.8321 - val_loss: 0.4628 - val_accuracy: 0.8420\n",
      "Epoch 3/30\n",
      "1719/1719 [==============================] - 2s 958us/step - loss: 0.4411 - accuracy: 0.8460 - val_loss: 0.4115 - val_accuracy: 0.8588\n",
      "Epoch 4/30\n",
      "1719/1719 [==============================] - 2s 966us/step - loss: 0.4149 - accuracy: 0.8546 - val_loss: 0.4053 - val_accuracy: 0.8590\n",
      "Epoch 5/30\n",
      "1719/1719 [==============================] - 2s 966us/step - loss: 0.3935 - accuracy: 0.8616 - val_loss: 0.3896 - val_accuracy: 0.8650\n",
      "Epoch 6/30\n",
      "1719/1719 [==============================] - 2s 1ms/step - loss: 0.3785 - accuracy: 0.8663 - val_loss: 0.3748 - val_accuracy: 0.8666\n",
      "Epoch 7/30\n",
      "1719/1719 [==============================] - 2s 1ms/step - loss: 0.3646 - accuracy: 0.8719 - val_loss: 0.3742 - val_accuracy: 0.8712\n",
      "Epoch 8/30\n",
      "1719/1719 [==============================] - 2s 1ms/step - loss: 0.3535 - accuracy: 0.8750 - val_loss: 0.3802 - val_accuracy: 0.8642\n",
      "Epoch 9/30\n",
      "1719/1719 [==============================] - 2s 1ms/step - loss: 0.3430 - accuracy: 0.8786 - val_loss: 0.3426 - val_accuracy: 0.8794\n",
      "Epoch 10/30\n",
      "1719/1719 [==============================] - 2s 990us/step - loss: 0.3325 - accuracy: 0.8831 - val_loss: 0.3631 - val_accuracy: 0.8714\n",
      "Epoch 11/30\n",
      "1719/1719 [==============================] - 2s 980us/step - loss: 0.3241 - accuracy: 0.8831 - val_loss: 0.3372 - val_accuracy: 0.8828\n",
      "Epoch 12/30\n",
      "1719/1719 [==============================] - 2s 958us/step - loss: 0.3152 - accuracy: 0.8861 - val_loss: 0.3274 - val_accuracy: 0.8866\n",
      "Epoch 13/30\n",
      "1719/1719 [==============================] - 2s 983us/step - loss: 0.3076 - accuracy: 0.8899 - val_loss: 0.3314 - val_accuracy: 0.8856\n",
      "Epoch 14/30\n",
      "1719/1719 [==============================] - 2s 970us/step - loss: 0.3009 - accuracy: 0.8909 - val_loss: 0.3152 - val_accuracy: 0.8892\n",
      "Epoch 15/30\n",
      "1719/1719 [==============================] - 2s 984us/step - loss: 0.2932 - accuracy: 0.8952 - val_loss: 0.3184 - val_accuracy: 0.8874\n",
      "Epoch 16/30\n",
      "1719/1719 [==============================] - 2s 971us/step - loss: 0.2881 - accuracy: 0.8963 - val_loss: 0.3269 - val_accuracy: 0.8812\n",
      "Epoch 17/30\n",
      "1719/1719 [==============================] - 2s 981us/step - loss: 0.2824 - accuracy: 0.8978 - val_loss: 0.3107 - val_accuracy: 0.8896\n",
      "Epoch 18/30\n",
      "1719/1719 [==============================] - 2s 970us/step - loss: 0.2762 - accuracy: 0.9011 - val_loss: 0.3105 - val_accuracy: 0.8878\n",
      "Epoch 19/30\n",
      "1719/1719 [==============================] - 2s 960us/step - loss: 0.2711 - accuracy: 0.9015 - val_loss: 0.3095 - val_accuracy: 0.8900\n",
      "Epoch 20/30\n",
      "1719/1719 [==============================] - 2s 964us/step - loss: 0.2662 - accuracy: 0.9045 - val_loss: 0.3059 - val_accuracy: 0.8888\n",
      "Epoch 21/30\n",
      "1719/1719 [==============================] - 2s 967us/step - loss: 0.2617 - accuracy: 0.9055 - val_loss: 0.3320 - val_accuracy: 0.8800\n",
      "Epoch 22/30\n",
      "1719/1719 [==============================] - 2s 964us/step - loss: 0.2574 - accuracy: 0.9070 - val_loss: 0.3052 - val_accuracy: 0.8924\n",
      "Epoch 23/30\n",
      "1719/1719 [==============================] - 2s 961us/step - loss: 0.2515 - accuracy: 0.9095 - val_loss: 0.3027 - val_accuracy: 0.8948\n",
      "Epoch 24/30\n",
      "1719/1719 [==============================] - 2s 972us/step - loss: 0.2482 - accuracy: 0.9099 - val_loss: 0.2984 - val_accuracy: 0.8938\n",
      "Epoch 25/30\n",
      "1719/1719 [==============================] - 2s 965us/step - loss: 0.2429 - accuracy: 0.9133 - val_loss: 0.3070 - val_accuracy: 0.8894\n",
      "Epoch 26/30\n",
      "1719/1719 [==============================] - 2s 956us/step - loss: 0.2391 - accuracy: 0.9140 - val_loss: 0.3080 - val_accuracy: 0.8874\n",
      "Epoch 27/30\n",
      "1719/1719 [==============================] - 2s 968us/step - loss: 0.2345 - accuracy: 0.9158 - val_loss: 0.3329 - val_accuracy: 0.8734\n",
      "Epoch 28/30\n",
      "1719/1719 [==============================] - 2s 953us/step - loss: 0.2314 - accuracy: 0.9165 - val_loss: 0.3268 - val_accuracy: 0.8862\n",
      "Epoch 29/30\n",
      "1719/1719 [==============================] - 2s 946us/step - loss: 0.2274 - accuracy: 0.9184 - val_loss: 0.3206 - val_accuracy: 0.8828\n",
      "Epoch 30/30\n",
      "1719/1719 [==============================] - 2s 955us/step - loss: 0.2227 - accuracy: 0.9201 - val_loss: 0.2924 - val_accuracy: 0.8958\n"
     ]
    }
   ],
   "source": [
    "history = model.fit(X_train, y_train, epochs=30, validation_data=(X_valid, y_valid))"
   ]
  },
  {
   "cell_type": "code",
   "execution_count": 30,
   "id": "c6f54144",
   "metadata": {},
   "outputs": [
    {
     "data": {
      "image/png": "[encoded data removed]",
      "text/plain": [
       "<Figure size 576x360 with 1 Axes>"
      ]
     },
     "metadata": {
      "needs_background": "light"
     },
     "output_type": "display_data"
    },
    {
     "name": "stdout",
     "output_type": "stream",
     "text": [
      "[<keras.layers.core.flatten.Flatten object at 0x000001492C8D1C40>, <keras.layers.core.dense.Dense object at 0x000001492C8D1BB0>, <keras.layers.core.dense.Dense object at 0x000001492C8EFF40>, <keras.layers.core.dense.Dense object at 0x000001494F86ED00>]\n",
      "Model: \"sequential\"\n",
      "_________________________________________________________________\n",
      " Layer (type)                Output Shape              Param #   \n",
      "=================================================================\n",
      " flatten (Flatten)           (None, 784)               0         \n",
      "                                                                 \n",
      " dense (Dense)               (None, 300)               235500    \n",
      "                                                                 \n",
      " dense_1 (Dense)             (None, 100)               30100     \n",
      "                                                                 \n",
      " dense_2 (Dense)             (None, 10)                1010      \n",
      "                                                                 \n",
      "=================================================================\n",
      "Total params: 266,610\n",
      "Trainable params: 266,610\n",
      "Non-trainable params: 0\n",
      "_________________________________________________________________\n",
      "None\n",
      "{'loss': [0.7127403616905212, 0.48305216431617737, 0.44108518958091736, 0.4149141013622284, 0.3934793472290039, 0.3784818649291992, 0.3645753264427185, 0.35346290469169617, 0.3430202901363373, 0.33249908685684204, 0.3240774869918823, 0.3152249753475189, 0.3076381981372833, 0.30094578862190247, 0.29322129487991333, 0.28813010454177856, 0.2824050486087799, 0.276240736246109, 0.2711270749568939, 0.26619935035705566, 0.2616617977619171, 0.2573883831501007, 0.2515450716018677, 0.24816901981830597, 0.24294309318065643, 0.2390540987253189, 0.2345341295003891, 0.23135286569595337, 0.22735950350761414, 0.2227104753255844], 'accuracy': [0.7694908976554871, 0.8320545554161072, 0.8460363745689392, 0.8545818328857422, 0.8615818023681641, 0.8663272857666016, 0.8718545436859131, 0.8749818205833435, 0.878600001335144, 0.8830545544624329, 0.8830909132957458, 0.886054515838623, 0.8899454474449158, 0.890927255153656, 0.8952363729476929, 0.8963272571563721, 0.8977636098861694, 0.901127278804779, 0.9014909267425537, 0.9044727087020874, 0.9055091142654419, 0.9069636464118958, 0.9094545245170593, 0.9098727107048035, 0.9132727384567261, 0.9139636158943176, 0.9157817959785461, 0.9165090918540955, 0.9183818101882935, 0.9201454520225525], 'val_loss': [0.5125334858894348, 0.46283549070358276, 0.41148442029953003, 0.4053022563457489, 0.38963085412979126, 0.37480059266090393, 0.37419524788856506, 0.3801889717578888, 0.34261032938957214, 0.3630759119987488, 0.33716103434562683, 0.3273684084415436, 0.33144524693489075, 0.3152405321598053, 0.3183833956718445, 0.32689252495765686, 0.3106870651245117, 0.3105328381061554, 0.3095358610153198, 0.30593058466911316, 0.33204320073127747, 0.305187463760376, 0.3027208149433136, 0.29838934540748596, 0.30704012513160706, 0.3080000877380371, 0.3328857719898224, 0.32684287428855896, 0.32061684131622314, 0.29236966371536255], 'val_accuracy': [0.8198000192642212, 0.8420000076293945, 0.8587999939918518, 0.859000027179718, 0.8650000095367432, 0.866599977016449, 0.8712000250816345, 0.8641999959945679, 0.8794000148773193, 0.871399998664856, 0.8827999830245972, 0.8866000175476074, 0.8855999708175659, 0.88919997215271, 0.8873999714851379, 0.8812000155448914, 0.8895999789237976, 0.8877999782562256, 0.8899999856948853, 0.8888000249862671, 0.8799999952316284, 0.8924000263214111, 0.8948000073432922, 0.8938000202178955, 0.8894000053405762, 0.8873999714851379, 0.8733999729156494, 0.8862000107765198, 0.8827999830245972, 0.895799994468689]}\n"
     ]
    }
   ],
   "source": [
    "#convert history dictionary to pandas dataframe and plot \n",
    "import pandas as pd\n",
    "import matplotlib.pyplot as plt\n",
    "\n",
    "pd.DataFrame(history.history).plot(figsize=(8,5))\n",
    "plt.grid=True\n",
    "plt.gca().set_ylim(0,1)\n",
    "plt.title('learning curves for first run')\n",
    "plt.show()\n",
    "print(model.layers)\n",
    "print(model.summary())\n",
    "print(history.history)"
   ]
  },
  {
   "cell_type": "code",
   "execution_count": 42,
   "id": "f76f3c2a",
   "metadata": {},
   "outputs": [],
   "source": [
    "from tensorflow.keras import regularizers"
   ]
  },
  {
   "cell_type": "code",
   "execution_count": 45,
   "id": "2f747230",
   "metadata": {},
   "outputs": [
    {
     "name": "stdout",
     "output_type": "stream",
     "text": [
      "Model: \"sequential_9\"\n",
      "_________________________________________________________________\n",
      " Layer (type)                Output Shape              Param #   \n",
      "=================================================================\n",
      " flatten_9 (Flatten)         (None, 784)               0         \n",
      "                                                                 \n",
      " dense_32 (Dense)            (None, 300)               235500    \n",
      "                                                                 \n",
      " dense_33 (Dense)            (None, 100)               30100     \n",
      "                                                                 \n",
      " dense_34 (Dense)            (None, 100)               10100     \n",
      "                                                                 \n",
      " dense_35 (Dense)            (None, 100)               10100     \n",
      "                                                                 \n",
      " dense_36 (Dense)            (None, 100)               10100     \n",
      "                                                                 \n",
      " dense_37 (Dense)            (None, 10)                1010      \n",
      "                                                                 \n",
      "=================================================================\n",
      "Total params: 296,910\n",
      "Trainable params: 296,910\n",
      "Non-trainable params: 0\n",
      "_________________________________________________________________\n",
      "Epoch 1/30\n",
      "1719/1719 [==============================] - 5s 3ms/step - loss: 1.0634 - accuracy: 0.7053 - val_loss: 0.7078 - val_accuracy: 0.8304\n",
      "Epoch 2/30\n",
      "1719/1719 [==============================] - 5s 3ms/step - loss: 0.6931 - accuracy: 0.8259 - val_loss: 0.6345 - val_accuracy: 0.8496\n",
      "Epoch 3/30\n",
      "1719/1719 [==============================] - 5s 3ms/step - loss: 0.6301 - accuracy: 0.8465 - val_loss: 0.6215 - val_accuracy: 0.8518\n",
      "Epoch 4/30\n",
      "1719/1719 [==============================] - 5s 3ms/step - loss: 0.5945 - accuracy: 0.8571 - val_loss: 0.6080 - val_accuracy: 0.8458\n",
      "Epoch 5/30\n",
      "1719/1719 [==============================] - 5s 3ms/step - loss: 0.5682 - accuracy: 0.8659 - val_loss: 0.5580 - val_accuracy: 0.8716\n",
      "Epoch 6/30\n",
      "1719/1719 [==============================] - 5s 3ms/step - loss: 0.5472 - accuracy: 0.8737 - val_loss: 0.5420 - val_accuracy: 0.8764\n",
      "Epoch 7/30\n",
      "1719/1719 [==============================] - 5s 3ms/step - loss: 0.5302 - accuracy: 0.8785 - val_loss: 0.5439 - val_accuracy: 0.8754\n",
      "Epoch 8/30\n",
      "1719/1719 [==============================] - 5s 3ms/step - loss: 0.5161 - accuracy: 0.8823 - val_loss: 0.5392 - val_accuracy: 0.8770\n",
      "Epoch 9/30\n",
      "1719/1719 [==============================] - 5s 3ms/step - loss: 0.5039 - accuracy: 0.8857 - val_loss: 0.5165 - val_accuracy: 0.8826\n",
      "Epoch 10/30\n",
      "1719/1719 [==============================] - 5s 3ms/step - loss: 0.4915 - accuracy: 0.8899 - val_loss: 0.5741 - val_accuracy: 0.8524\n",
      "Epoch 11/30\n",
      "1719/1719 [==============================] - 5s 3ms/step - loss: 0.4819 - accuracy: 0.8934 - val_loss: 0.5050 - val_accuracy: 0.8854\n",
      "Epoch 12/30\n",
      "1719/1719 [==============================] - 5s 3ms/step - loss: 0.4715 - accuracy: 0.8956 - val_loss: 0.5474 - val_accuracy: 0.8728\n",
      "Epoch 13/30\n",
      "1719/1719 [==============================] - 5s 3ms/step - loss: 0.4634 - accuracy: 0.8984 - val_loss: 0.4995 - val_accuracy: 0.8850\n",
      "Epoch 14/30\n",
      "1719/1719 [==============================] - 4s 3ms/step - loss: 0.4536 - accuracy: 0.9019 - val_loss: 0.5094 - val_accuracy: 0.8824\n",
      "Epoch 15/30\n",
      "1719/1719 [==============================] - 5s 3ms/step - loss: 0.4460 - accuracy: 0.9028 - val_loss: 0.5077 - val_accuracy: 0.8858\n",
      "Epoch 16/30\n",
      "1719/1719 [==============================] - 5s 3ms/step - loss: 0.4391 - accuracy: 0.9067 - val_loss: 0.5067 - val_accuracy: 0.8822\n",
      "Epoch 17/30\n",
      "1719/1719 [==============================] - 5s 3ms/step - loss: 0.4302 - accuracy: 0.9095 - val_loss: 0.4950 - val_accuracy: 0.8890\n",
      "Epoch 18/30\n",
      "1719/1719 [==============================] - 5s 3ms/step - loss: 0.4227 - accuracy: 0.9102 - val_loss: 0.4889 - val_accuracy: 0.8912\n",
      "Epoch 19/30\n",
      "1719/1719 [==============================] - 5s 3ms/step - loss: 0.4173 - accuracy: 0.9145 - val_loss: 0.4831 - val_accuracy: 0.8896\n",
      "Epoch 20/30\n",
      "1719/1719 [==============================] - 5s 3ms/step - loss: 0.4110 - accuracy: 0.9148 - val_loss: 0.5031 - val_accuracy: 0.8878\n",
      "Epoch 21/30\n",
      "1719/1719 [==============================] - 5s 3ms/step - loss: 0.4056 - accuracy: 0.9163 - val_loss: 0.4832 - val_accuracy: 0.8900\n",
      "Epoch 22/30\n",
      "1719/1719 [==============================] - 5s 3ms/step - loss: 0.3976 - accuracy: 0.9193 - val_loss: 0.4798 - val_accuracy: 0.8904\n",
      "Epoch 23/30\n",
      "1719/1719 [==============================] - 5s 3ms/step - loss: 0.3917 - accuracy: 0.9220 - val_loss: 0.5181 - val_accuracy: 0.8796\n",
      "Epoch 24/30\n",
      "1719/1719 [==============================] - 6s 3ms/step - loss: 0.3870 - accuracy: 0.9226 - val_loss: 0.4902 - val_accuracy: 0.8888\n",
      "Epoch 25/30\n",
      "1719/1719 [==============================] - 5s 3ms/step - loss: 0.3814 - accuracy: 0.9241 - val_loss: 0.4918 - val_accuracy: 0.8890\n",
      "Epoch 26/30\n",
      "1719/1719 [==============================] - 5s 3ms/step - loss: 0.3758 - accuracy: 0.9267 - val_loss: 0.4889 - val_accuracy: 0.8856\n",
      "Epoch 27/30\n",
      "1719/1719 [==============================] - 5s 3ms/step - loss: 0.3722 - accuracy: 0.9267 - val_loss: 0.4956 - val_accuracy: 0.8876\n",
      "Epoch 28/30\n",
      "1719/1719 [==============================] - 5s 3ms/step - loss: 0.3673 - accuracy: 0.9300 - val_loss: 0.4859 - val_accuracy: 0.8920\n",
      "Epoch 29/30\n",
      "1719/1719 [==============================] - 5s 3ms/step - loss: 0.3618 - accuracy: 0.9297 - val_loss: 0.4908 - val_accuracy: 0.8878\n",
      "Epoch 30/30\n",
      "1719/1719 [==============================] - 5s 3ms/step - loss: 0.3565 - accuracy: 0.9324 - val_loss: 0.4756 - val_accuracy: 0.8926\n"
     ]
    },
    {
     "data": {
      "text/plain": [
       "Text(0.5, 1.0, 'learning curves for second run')"
      ]
     },
     "execution_count": 45,
     "metadata": {},
     "output_type": "execute_result"
    },
    {
     "data": {
      "image/png": "[encoded data removed]",
      "text/plain": [
       "<Figure size 576x360 with 1 Axes>"
      ]
     },
     "metadata": {
      "needs_background": "light"
     },
     "output_type": "display_data"
    }
   ],
   "source": [
    "# hyperparameters we could tune: epoch#, batchsize, # layers, units per layer, \n",
    "#   activation functions\n",
    "\n",
    "#initialize and build a second model to perform better\n",
    "model2 = keras.models.Sequential()\n",
    "model2.add(keras.layers.Flatten(input_shape=[28,28]))\n",
    "model2.add(keras.layers.Dense(300, activation='relu', kernel_regularizer=regularizers.l1_l2(l1=1e-5, l2=1e-4)))\n",
    "model2.add(keras.layers.Dense(100, activation='relu', kernel_regularizer=regularizers.l1_l2(l1=1e-5, l2=1e-4)))\n",
    "model2.add(keras.layers.Dense(100, activation='relu', kernel_regularizer=regularizers.l1_l2(l1=1e-5, l2=1e-4)))\n",
    "model2.add(keras.layers.Dense(100, activation='relu', kernel_regularizer=regularizers.l1_l2(l1=1e-5, l2=1e-4)))\n",
    "model2.add(keras.layers.Dense(100, activation='relu'))\n",
    "model2.add(keras.layers.Dense(10, activation='softmax'))\n",
    "\n",
    "\n",
    "\n",
    "#show model sumamry\n",
    "model2.summary()\n",
    "\n",
    "#set model hyperparameters\n",
    "model2.compile(loss='sparse_categorical_crossentropy',\n",
    "             optimizer='sgd',\n",
    "             metrics=['accuracy'])\n",
    "\n",
    "history2 = model2.fit(X_train, y_train, epochs=30, \n",
    "                    validation_data=(X_valid, y_valid))\n",
    "\n",
    "pd.DataFrame(history2.history).plot(figsize=(8,5))\n",
    "plt.grid=True\n",
    "plt.gca().set_ylim(0,1)\n",
    "plt.title('learning curves for second run')"
   ]
  },
  {
   "cell_type": "code",
   "execution_count": 38,
   "id": "84f03759",
   "metadata": {},
   "outputs": [
    {
     "name": "stdout",
     "output_type": "stream",
     "text": [
      "313/313 [==============================] - 0s 1ms/step - loss: 69.4314 - accuracy: 0.8360\n"
     ]
    },
    {
     "data": {
      "text/plain": [
       "[69.43136596679688, 0.8360000252723694]"
      ]
     },
     "execution_count": 38,
     "metadata": {},
     "output_type": "execute_result"
    }
   ],
   "source": [
    "#use the avaluate() method and test set to evaluate the model's performance\n",
    "model.evaluate(X_test_full, y_test_full)"
   ]
  },
  {
   "cell_type": "code",
   "execution_count": 39,
   "id": "bc03e001",
   "metadata": {},
   "outputs": [
    {
     "name": "stdout",
     "output_type": "stream",
     "text": [
      "313/313 [==============================] - 0s 1ms/step - loss: 68.0978 - accuracy: 0.8292\n"
     ]
    },
    {
     "data": {
      "text/plain": [
       "[68.0977783203125, 0.829200029373169]"
      ]
     },
     "execution_count": 39,
     "metadata": {},
     "output_type": "execute_result"
    }
   ],
   "source": [
    "model2.evaluate(X_test_full, y_test_full)"
   ]
  },
  {
   "cell_type": "markdown",
   "id": "af7f4f83",
   "metadata": {},
   "source": [
    "### Using the model to make predictions\n"
   ]
  },
  {
   "cell_type": "code",
   "execution_count": 48,
   "id": "f2fb36e4",
   "metadata": {},
   "outputs": [
    {
     "data": {
      "text/plain": [
       "array([[0., 0., 0., 0., 0., 0., 0., 0., 0., 1.],\n",
       "       [0., 0., 1., 0., 0., 0., 0., 0., 0., 0.],\n",
       "       [0., 1., 0., 0., 0., 0., 0., 0., 0., 0.]], dtype=float32)"
      ]
     },
     "execution_count": 48,
     "metadata": {},
     "output_type": "execute_result"
    }
   ],
   "source": [
    "X_new = X_test_full[:3]\n",
    "y_proba = model.predict(X_new)\n",
    "y_proba.round(2)"
   ]
  },
  {
   "cell_type": "code",
   "execution_count": 50,
   "id": "71acf020",
   "metadata": {},
   "outputs": [
    {
     "ename": "AttributeError",
     "evalue": "'Sequential' object has no attribute 'predict_class'",
     "output_type": "error",
     "traceback": [
      "\u001b[1;31m---------------------------------------------------------------------------\u001b[0m",
      "\u001b[1;31mAttributeError\u001b[0m                            Traceback (most recent call last)",
      "\u001b[1;32m~\\AppData\\Local\\Temp/ipykernel_20324/3319406182.py\u001b[0m in \u001b[0;36m<module>\u001b[1;34m\u001b[0m\n\u001b[1;32m----> 1\u001b[1;33m \u001b[0my_pred\u001b[0m \u001b[1;33m=\u001b[0m \u001b[0mmodel\u001b[0m\u001b[1;33m.\u001b[0m\u001b[0mpredict_class\u001b[0m\u001b[1;33m(\u001b[0m\u001b[0mX_new\u001b[0m\u001b[1;33m)\u001b[0m\u001b[1;33m\u001b[0m\u001b[1;33m\u001b[0m\u001b[0m\n\u001b[0m\u001b[0;32m      2\u001b[0m \u001b[0my_pred\u001b[0m\u001b[1;33m\u001b[0m\u001b[1;33m\u001b[0m\u001b[0m\n",
      "\u001b[1;31mAttributeError\u001b[0m: 'Sequential' object has no attribute 'predict_class'"
     ]
    }
   ],
   "source": [
    "y_pred = model.predict_class(X_new)\n",
    "y_pred"
   ]
  },
  {
   "cell_type": "markdown",
   "id": "6853732b",
   "metadata": {},
   "source": [
    "## Building a Regression MLP Using the Sequential API\n",
    "- This time the ouput layer will have a single neuron with no activation funciton \n",
    "- Loss function = MSE\n",
    "- Noisy dataset means we will add fewer layers and neurons to avoid over fitting"
   ]
  },
  {
   "cell_type": "code",
   "execution_count": 51,
   "id": "3cace520",
   "metadata": {},
   "outputs": [],
   "source": [
    "from sklearn.datasets import fetch_california_housing\n",
    "from sklearn.model_selection import train_test_split\n",
    "from sklearn.preprocessing import StandardScaler"
   ]
  },
  {
   "cell_type": "code",
   "execution_count": 52,
   "id": "3018d8ef",
   "metadata": {},
   "outputs": [],
   "source": [
    "housing = fetch_california_housing()\n",
    "\n",
    "#split into train/test/validation\n",
    "X_train_full, X_test, y_train_full, y_test = train_test_split(\n",
    "    housing.data, housing.target)\n",
    "X_train, X_valid, y_train, y_valid = train_test_split(\n",
    "    X_train_full, y_train_full)\n",
    "#scale the input data\n",
    "scaler = StandardScaler()\n",
    "X_train_scaled = scaler.fit_transform(X_train)\n",
    "X_valid_scaled = scaler.transform(X_valid)\n",
    "X_test_scaled = scaler.transform(X_test)"
   ]
  },
  {
   "cell_type": "code",
   "execution_count": 58,
   "id": "8478648d",
   "metadata": {},
   "outputs": [
    {
     "name": "stdout",
     "output_type": "stream",
     "text": [
      "Epoch 1/20\n",
      "363/363 [==============================] - 1s 1ms/step - loss: 2427491876199202816.0000 - val_loss: 36855718346752.0000\n",
      "Epoch 2/20\n",
      "363/363 [==============================] - 0s 1ms/step - loss: 2565239996416.0000 - val_loss: 15727006.0000\n",
      "Epoch 3/20\n",
      "363/363 [==============================] - 0s 1ms/step - loss: 1094629.2500 - val_loss: 8.2862\n",
      "Epoch 4/20\n",
      "363/363 [==============================] - 0s 1ms/step - loss: 1.8094 - val_loss: 1.3424\n",
      "Epoch 5/20\n",
      "363/363 [==============================] - 0s 1ms/step - loss: 1.3391 - val_loss: 1.3421\n",
      "Epoch 6/20\n",
      "363/363 [==============================] - 0s 1ms/step - loss: 1.3391 - val_loss: 1.3425\n",
      "Epoch 7/20\n",
      "363/363 [==============================] - 0s 1ms/step - loss: 1.3390 - val_loss: 1.3442\n",
      "Epoch 8/20\n",
      "363/363 [==============================] - 0s 1ms/step - loss: 1.3392 - val_loss: 1.3433\n",
      "Epoch 9/20\n",
      "363/363 [==============================] - 0s 1ms/step - loss: 1.3390 - val_loss: 1.3432\n",
      "Epoch 10/20\n",
      "363/363 [==============================] - 0s 1ms/step - loss: 1.3389 - val_loss: 1.3420\n",
      "Epoch 11/20\n",
      "363/363 [==============================] - 0s 1ms/step - loss: 1.3391 - val_loss: 1.3430\n",
      "Epoch 12/20\n",
      "363/363 [==============================] - 0s 1ms/step - loss: 1.3391 - val_loss: 1.3419\n",
      "Epoch 13/20\n",
      "363/363 [==============================] - 0s 1ms/step - loss: 1.3387 - val_loss: 1.3420\n",
      "Epoch 14/20\n",
      "363/363 [==============================] - 0s 1ms/step - loss: 1.3390 - val_loss: 1.3435\n",
      "Epoch 15/20\n",
      "363/363 [==============================] - 0s 1ms/step - loss: 1.3392 - val_loss: 1.3421\n",
      "Epoch 16/20\n",
      "363/363 [==============================] - 0s 1ms/step - loss: 1.3387 - val_loss: 1.3420\n",
      "Epoch 17/20\n",
      "363/363 [==============================] - 0s 1ms/step - loss: 1.3392 - val_loss: 1.3420\n",
      "Epoch 18/20\n",
      "363/363 [==============================] - 0s 1ms/step - loss: 1.3389 - val_loss: 1.3445\n",
      "Epoch 19/20\n",
      "363/363 [==============================] - 0s 1ms/step - loss: 1.3387 - val_loss: 1.3419\n",
      "Epoch 20/20\n",
      "363/363 [==============================] - 1s 2ms/step - loss: 1.3387 - val_loss: 1.3431\n",
      "162/162 [==============================] - 0s 1ms/step - loss: 1.3075\n"
     ]
    }
   ],
   "source": [
    "model3 = keras.models.Sequential([\n",
    "    keras.layers.Dense(30, activation='relu', input_shape=X_train.shape[1:]),\n",
    "    keras.layers.Dense(1)\n",
    "])\n",
    "\n",
    "model3.compile(\n",
    "    loss='mean_squared_error',\n",
    "    optimizer='sgd')\n",
    "\n",
    "history = model3.fit(X_train, y_train, epochs=20, \n",
    "                    validation_data=(X_valid, y_valid))\n",
    "                     \n",
    "mse_test=model3.evaluate(X_test, y_test)\n",
    "\n",
    "X_new = X_test[:3]\n",
    "y_pred= model3.predict(X_new)"
   ]
  },
  {
   "cell_type": "code",
   "execution_count": 63,
   "id": "a69e5c91",
   "metadata": {},
   "outputs": [
    {
     "data": {
      "text/plain": [
       "1.3075337409973145"
      ]
     },
     "execution_count": 63,
     "metadata": {},
     "output_type": "execute_result"
    }
   ],
   "source": [
    "mse_test\n"
   ]
  },
  {
   "cell_type": "code",
   "execution_count": 65,
   "id": "c697e69a",
   "metadata": {},
   "outputs": [
    {
     "name": "stdout",
     "output_type": "stream",
     "text": [
      "[[2.0530384]\n",
      " [2.0530384]\n",
      " [2.0530384]]\n",
      "[1.691 2.292 1.368]\n"
     ]
    }
   ],
   "source": [
    "print(y_pred)\n",
    "print(y_test[:3])"
   ]
  },
  {
   "cell_type": "markdown",
   "id": "59a87369",
   "metadata": {},
   "source": [
    "### Building Complex models using the Functional API"
   ]
  },
  {
   "cell_type": "code",
   "execution_count": null,
   "id": "1a20bdbd",
   "metadata": {},
   "outputs": [],
   "source": []
  },
  {
   "cell_type": "code",
   "execution_count": null,
   "id": "f989baf3",
   "metadata": {},
   "outputs": [],
   "source": []
  },
  {
   "cell_type": "code",
   "execution_count": null,
   "id": "af7a86c6",
   "metadata": {},
   "outputs": [],
   "source": []
  },
  {
   "cell_type": "code",
   "execution_count": null,
   "id": "15706e75",
   "metadata": {},
   "outputs": [],
   "source": []
  },
  {
   "cell_type": "code",
   "execution_count": null,
   "id": "705a1048",
   "metadata": {},
   "outputs": [],
   "source": []
  }
 ],
 "metadata": {
  "kernelspec": {
   "display_name": "Python 3 (ipykernel)",
   "language": "python",
   "name": "python3"
  },
  "language_info": {
   "codemirror_mode": {
    "name": "ipython",
    "version": 3
   },
   "file_extension": ".py",
   "mimetype": "text/x-python",
   "name": "python",
   "nbconvert_exporter": "python",
   "pygments_lexer": "ipython3",
   "version": "3.9.7"
  }
 },
 "nbformat": 4,
 "nbformat_minor": 5
}
